{
  "cells": [
    {
      "cell_type": "markdown",
      "metadata": {
        "id": "DKCqUqTVjnTd"
      },
      "source": [
        "# Pandas Tutorial\n",
        "\n",
        "## Introduction\n",
        "\n",
        "Pandas is a powerful and flexible open-source data analysis and manipulation library for Python. It provides data structures like Series and DataFrame, which are essential for handling structured data efficiently. In this tutorial, we'll explore various functionalities of pandas with updated examples and exercises.\n",
        "\n",
        "## Importing Necessary Libraries\n",
        "\n",
        "```python\n",
        "import pandas as pd\n",
        "import numpy as np\n"
      ]
    },
    {
      "cell_type": "markdown",
      "metadata": {
        "id": "iHhwc2jmjnTh"
      },
      "source": [
        "## Series\n",
        "A Series is a one-dimensional labeled array capable of holding any data type."
      ]
    },
    {
      "cell_type": "markdown",
      "source": [
        "###Creating a Series from a List"
      ],
      "metadata": {
        "id": "vS9RxJ5QlxJi"
      }
    },
    {
      "cell_type": "code",
      "execution_count": 2,
      "metadata": {
        "id": "PfXMr9jDjnTj"
      },
      "outputs": [],
      "source": [
        "import pandas as pd\n",
        "import numpy as np"
      ]
    },
    {
      "cell_type": "code",
      "source": [
        "# Creating a Series without specifying an index\n",
        "s = pd.Series([10, 20, 30])\n",
        "print(s)"
      ],
      "metadata": {
        "id": "jtqyGbzfmDRH",
        "outputId": "f7b1c5f4-95ab-4cf5-fbb8-feba56377ace",
        "colab": {
          "base_uri": "https://localhost:8080/"
        }
      },
      "execution_count": 4,
      "outputs": [
        {
          "output_type": "stream",
          "name": "stdout",
          "text": [
            "0    10\n",
            "1    20\n",
            "2    30\n",
            "dtype: int64\n"
          ]
        }
      ]
    },
    {
      "cell_type": "code",
      "source": [
        "# Creating a Series with a custom index\n",
        "labels = ['a', 'b', 'c']\n",
        "s = pd.Series([10, 20, 30], index=labels)\n",
        "print(s)"
      ],
      "metadata": {
        "id": "8dfgTbNbmQuU",
        "outputId": "7b8c527a-42a2-4633-cfef-7189d23859ef",
        "colab": {
          "base_uri": "https://localhost:8080/"
        }
      },
      "execution_count": 5,
      "outputs": [
        {
          "output_type": "stream",
          "name": "stdout",
          "text": [
            "a    10\n",
            "b    20\n",
            "c    30\n",
            "dtype: int64\n"
          ]
        }
      ]
    },
    {
      "cell_type": "markdown",
      "source": [
        "###Creating a Series from a NumPy Array"
      ],
      "metadata": {
        "id": "dR-gyfobmUtP"
      }
    },
    {
      "cell_type": "code",
      "execution_count": 6,
      "metadata": {
        "id": "RWooiRu_jnTm",
        "outputId": "cb183db2-34fd-42cd-fd3f-def88da368ed",
        "colab": {
          "base_uri": "https://localhost:8080/"
        }
      },
      "outputs": [
        {
          "output_type": "stream",
          "name": "stdout",
          "text": [
            "0    10\n",
            "1    20\n",
            "2    30\n",
            "dtype: int64\n"
          ]
        }
      ],
      "source": [
        "my_array = np.array([10, 20, 30])\n",
        "s = pd.Series(my_array)\n",
        "print(s)"
      ]
    },
    {
      "cell_type": "code",
      "execution_count": 7,
      "metadata": {
        "id": "XcTZRNRPjnTn",
        "outputId": "9f1ccf88-22ca-42fc-8623-ebe759fcfc6d",
        "colab": {
          "base_uri": "https://localhost:8080/"
        }
      },
      "outputs": [
        {
          "output_type": "stream",
          "name": "stdout",
          "text": [
            "a    10\n",
            "b    20\n",
            "c    30\n",
            "dtype: int64\n"
          ]
        }
      ],
      "source": [
        "# With custom index\n",
        "s = pd.Series(my_array, index=labels)\n",
        "print(s)"
      ]
    },
    {
      "cell_type": "markdown",
      "metadata": {
        "id": "amRerB9BjnTs"
      },
      "source": [
        "## Creating a Series from a Dictionary"
      ]
    },
    {
      "cell_type": "code",
      "execution_count": 8,
      "metadata": {
        "id": "U4pCEMrBjnTt",
        "outputId": "72c4b0c0-82d3-4315-fc84-1909b611d752",
        "colab": {
          "base_uri": "https://localhost:8080/"
        }
      },
      "outputs": [
        {
          "output_type": "stream",
          "name": "stdout",
          "text": [
            "name             Arafat\n",
            "position    PhD student\n",
            "year               2023\n",
            "dtype: object\n"
          ]
        }
      ],
      "source": [
        "my_dict = {\"name\": \"Arafat\", \"position\": \"PhD student\", \"year\": 2023}\n",
        "s = pd.Series(my_dict)\n",
        "print(s)\n"
      ]
    },
    {
      "cell_type": "markdown",
      "metadata": {
        "id": "Kjt36XSMjnTu"
      },
      "source": [
        "### Accessing Data from a Series\n"
      ]
    },
    {
      "cell_type": "code",
      "execution_count": 10,
      "metadata": {
        "id": "LtZc3HGsjnTv",
        "outputId": "bdef0aea-d60c-4d6c-8fcf-7012f4dd50b3",
        "colab": {
          "base_uri": "https://localhost:8080/"
        }
      },
      "outputs": [
        {
          "output_type": "stream",
          "name": "stdout",
          "text": [
            "Arafat\n"
          ]
        }
      ],
      "source": [
        "# Accessing by index label\n",
        "print(s['name'])"
      ]
    },
    {
      "cell_type": "code",
      "source": [
        "# Accessing multiple elements\n",
        "print(s[['name', 'year']])"
      ],
      "metadata": {
        "id": "NSYqDtRKnDoh",
        "outputId": "28e80602-3872-4f5b-fca1-d474c015372d",
        "colab": {
          "base_uri": "https://localhost:8080/"
        }
      },
      "execution_count": 11,
      "outputs": [
        {
          "output_type": "stream",
          "name": "stdout",
          "text": [
            "name    Arafat\n",
            "year      2023\n",
            "dtype: object\n"
          ]
        }
      ]
    },
    {
      "cell_type": "markdown",
      "source": [
        "### DataFrames\n",
        "A DataFrame is a two-dimensional labeled data structure with columns of potentially different types.\n",
        "\n",
        "### Creating a DataFrame from a Dictionary"
      ],
      "metadata": {
        "id": "X6O5p5vAnIG2"
      }
    },
    {
      "cell_type": "code",
      "execution_count": 13,
      "metadata": {
        "id": "yQ2pQB1ujnTv",
        "outputId": "59c74d78-eb24-4bca-a4f1-c1d943f8417b",
        "colab": {
          "base_uri": "https://localhost:8080/"
        }
      },
      "outputs": [
        {
          "output_type": "stream",
          "name": "stdout",
          "text": [
            "      name       position  year\n",
            "0   Arafat    PhD student  2023\n",
            "1  Ermiyas  PhD Candidate  2024\n",
            "2  Zakarya       Lecturer  2025\n"
          ]
        }
      ],
      "source": [
        "data = {\n",
        "    \"name\": [\"Arafat\", \"Ermiyas\", \"Zakarya\"],\n",
        "    \"position\": [\"PhD student\", \"PhD Candidate\", \"Lecturer\"],\n",
        "    \"year\": [2023, 2024, 2025]\n",
        "}\n",
        "df = pd.DataFrame(data)\n",
        "print(df)\n"
      ]
    },
    {
      "cell_type": "markdown",
      "source": [
        "###Creating a DataFrame from a NumPy Array"
      ],
      "metadata": {
        "id": "AEn8QIp_nmEI"
      }
    },
    {
      "cell_type": "code",
      "source": [
        "np.random.seed(101)\n",
        "df = pd.DataFrame(np.random.randn(10, 6), columns=list(\"ABCDEF\"))\n",
        "print(df)"
      ],
      "metadata": {
        "id": "E0ANLtTen9qz",
        "outputId": "5166c9a6-62c2-4345-e43e-2099bb96c3ce",
        "colab": {
          "base_uri": "https://localhost:8080/"
        }
      },
      "execution_count": 15,
      "outputs": [
        {
          "output_type": "stream",
          "name": "stdout",
          "text": [
            "          A         B         C         D         E         F\n",
            "0  2.706850  0.628133  0.907969  0.503826  0.651118 -0.319318\n",
            "1 -0.848077  0.605965 -2.018168  0.740122  0.528813 -0.589001\n",
            "2  0.188695 -0.758872 -0.933237  0.955057  0.190794  1.978757\n",
            "3  2.605967  0.683509  0.302665  1.693723 -1.706086 -1.159119\n",
            "4 -0.134841  0.390528  0.166905  0.184502  0.807706  0.072960\n",
            "5  0.638787  0.329646 -0.497104 -0.754070 -0.943406  0.484752\n",
            "6 -0.116773  1.901755  0.238127  1.996652 -0.993263  0.196800\n",
            "7 -1.136645  0.000366  1.025984 -0.156598 -0.031579  0.649826\n",
            "8  2.154846 -0.610259 -0.755325 -0.346419  0.147027 -0.479448\n",
            "9  0.558769  1.024810 -0.925874  1.862864 -1.133817  0.610478\n"
          ]
        }
      ]
    },
    {
      "cell_type": "markdown",
      "source": [
        "### DataFrame Overview"
      ],
      "metadata": {
        "id": "1MNHxLvooDtk"
      }
    },
    {
      "cell_type": "code",
      "source": [
        "# Displaying basic statistics\n",
        "print(df.describe())\n",
        "\n",
        "# Displaying data types\n",
        "print(df.dtypes)\n"
      ],
      "metadata": {
        "id": "4BsowTSPoBOF",
        "outputId": "194c8d8b-75fc-4414-ff6b-7ab8a17b01ec",
        "colab": {
          "base_uri": "https://localhost:8080/"
        }
      },
      "execution_count": 16,
      "outputs": [
        {
          "output_type": "stream",
          "name": "stdout",
          "text": [
            "               A          B          C          D          E          F\n",
            "count  10.000000  10.000000  10.000000  10.000000  10.000000  10.000000\n",
            "mean    0.661758   0.419558  -0.248806   0.667966  -0.248269   0.144669\n",
            "std     1.381670   0.770644   0.945926   0.961754   0.873784   0.869387\n",
            "min    -1.136645  -0.758872  -2.018168  -0.754070  -1.706086  -1.159119\n",
            "25%    -0.130324   0.082686  -0.883237  -0.071323  -0.980799  -0.439416\n",
            "50%     0.373732   0.498247  -0.165100   0.621974   0.057724   0.134880\n",
            "75%     1.775832   0.669665   0.286531   1.509056   0.444309   0.579046\n",
            "max     2.706850   1.901755   1.025984   1.996652   0.807706   1.978757\n",
            "A    float64\n",
            "B    float64\n",
            "C    float64\n",
            "D    float64\n",
            "E    float64\n",
            "F    float64\n",
            "dtype: object\n"
          ]
        }
      ]
    },
    {
      "cell_type": "markdown",
      "metadata": {
        "id": "OXsxq9kljnTx"
      },
      "source": [
        "### Indexing and Selecting Data\n",
        "Selecting Columns"
      ]
    },
    {
      "cell_type": "code",
      "execution_count": 17,
      "metadata": {
        "id": "tpL9iMzUjnTx",
        "outputId": "bfb05902-f9d6-4c10-f0ff-66e7fa5270cf",
        "colab": {
          "base_uri": "https://localhost:8080/"
        }
      },
      "outputs": [
        {
          "output_type": "stream",
          "name": "stdout",
          "text": [
            "0    0.628133\n",
            "1    0.605965\n",
            "2   -0.758872\n",
            "3    0.683509\n",
            "4    0.390528\n",
            "5    0.329646\n",
            "6    1.901755\n",
            "7    0.000366\n",
            "8   -0.610259\n",
            "9    1.024810\n",
            "Name: B, dtype: float64\n",
            "          A         D\n",
            "0  2.706850  0.503826\n",
            "1 -0.848077  0.740122\n",
            "2  0.188695  0.955057\n",
            "3  2.605967  1.693723\n",
            "4 -0.134841  0.184502\n",
            "5  0.638787 -0.754070\n",
            "6 -0.116773  1.996652\n",
            "7 -1.136645 -0.156598\n",
            "8  2.154846 -0.346419\n",
            "9  0.558769  1.862864\n"
          ]
        }
      ],
      "source": [
        "# Selecting a single column\n",
        "print(df['B'])\n",
        "\n",
        "# Selecting multiple columns\n",
        "print(df[['A', 'D']])\n"
      ]
    },
    {
      "cell_type": "markdown",
      "source": [
        "### Creating and Removing Columns\n"
      ],
      "metadata": {
        "id": "9fC9U5vKo2TG"
      }
    },
    {
      "cell_type": "code",
      "source": [
        "# Creating new columns\n",
        "df['G'] = df['B'] + df['D']\n",
        "df['H'] = df['A'] - df['C']\n",
        "print(df)"
      ],
      "metadata": {
        "id": "nZbrcGMUozwU",
        "outputId": "de0e2775-e46e-49b2-a08a-8a4b785be0ec",
        "colab": {
          "base_uri": "https://localhost:8080/"
        }
      },
      "execution_count": 18,
      "outputs": [
        {
          "output_type": "stream",
          "name": "stdout",
          "text": [
            "          A         B         C         D         E         F         G  \\\n",
            "0  2.706850  0.628133  0.907969  0.503826  0.651118 -0.319318  1.131958   \n",
            "1 -0.848077  0.605965 -2.018168  0.740122  0.528813 -0.589001  1.346087   \n",
            "2  0.188695 -0.758872 -0.933237  0.955057  0.190794  1.978757  0.196184   \n",
            "3  2.605967  0.683509  0.302665  1.693723 -1.706086 -1.159119  2.377232   \n",
            "4 -0.134841  0.390528  0.166905  0.184502  0.807706  0.072960  0.575030   \n",
            "5  0.638787  0.329646 -0.497104 -0.754070 -0.943406  0.484752 -0.424423   \n",
            "6 -0.116773  1.901755  0.238127  1.996652 -0.993263  0.196800  3.898407   \n",
            "7 -1.136645  0.000366  1.025984 -0.156598 -0.031579  0.649826 -0.156231   \n",
            "8  2.154846 -0.610259 -0.755325 -0.346419  0.147027 -0.479448 -0.956677   \n",
            "9  0.558769  1.024810 -0.925874  1.862864 -1.133817  0.610478  2.887674   \n",
            "\n",
            "          H  \n",
            "0  1.798880  \n",
            "1  1.170091  \n",
            "2  1.121933  \n",
            "3  2.303302  \n",
            "4 -0.301745  \n",
            "5  1.135891  \n",
            "6 -0.354900  \n",
            "7 -2.162629  \n",
            "8  2.910172  \n",
            "9  1.484644  \n"
          ]
        }
      ]
    },
    {
      "cell_type": "code",
      "source": [
        "# Removing a column\n",
        "df.drop('G', axis=1, inplace=True)\n",
        "print(df)"
      ],
      "metadata": {
        "id": "RktKxF5jo-u0",
        "outputId": "7eea91b7-e92f-432c-cf54-7ea0becc9c44",
        "colab": {
          "base_uri": "https://localhost:8080/"
        }
      },
      "execution_count": 19,
      "outputs": [
        {
          "output_type": "stream",
          "name": "stdout",
          "text": [
            "          A         B         C         D         E         F         H\n",
            "0  2.706850  0.628133  0.907969  0.503826  0.651118 -0.319318  1.798880\n",
            "1 -0.848077  0.605965 -2.018168  0.740122  0.528813 -0.589001  1.170091\n",
            "2  0.188695 -0.758872 -0.933237  0.955057  0.190794  1.978757  1.121933\n",
            "3  2.605967  0.683509  0.302665  1.693723 -1.706086 -1.159119  2.303302\n",
            "4 -0.134841  0.390528  0.166905  0.184502  0.807706  0.072960 -0.301745\n",
            "5  0.638787  0.329646 -0.497104 -0.754070 -0.943406  0.484752  1.135891\n",
            "6 -0.116773  1.901755  0.238127  1.996652 -0.993263  0.196800 -0.354900\n",
            "7 -1.136645  0.000366  1.025984 -0.156598 -0.031579  0.649826 -2.162629\n",
            "8  2.154846 -0.610259 -0.755325 -0.346419  0.147027 -0.479448  2.910172\n",
            "9  0.558769  1.024810 -0.925874  1.862864 -1.133817  0.610478  1.484644\n"
          ]
        }
      ]
    },
    {
      "cell_type": "markdown",
      "metadata": {
        "id": "LtIs9-ngjnTx"
      },
      "source": [
        "### Selecting Rows"
      ]
    },
    {
      "cell_type": "code",
      "execution_count": 20,
      "metadata": {
        "id": "q6hCPU2RjnTx",
        "outputId": "4a1393f4-384a-4184-a091-0353d1a4a1ba",
        "colab": {
          "base_uri": "https://localhost:8080/"
        }
      },
      "outputs": [
        {
          "output_type": "stream",
          "name": "stdout",
          "text": [
            "A    2.706850\n",
            "B    0.628133\n",
            "C    0.907969\n",
            "D    0.503826\n",
            "E    0.651118\n",
            "F   -0.319318\n",
            "H    1.798880\n",
            "Name: 0, dtype: float64\n"
          ]
        }
      ],
      "source": [
        "# Selecting by label\n",
        "print(df.loc[0])"
      ]
    },
    {
      "cell_type": "code",
      "source": [
        "# Selecting by position\n",
        "print(df.iloc[4])"
      ],
      "metadata": {
        "id": "VOS8EiUHpLO0",
        "outputId": "3e29aab7-4e17-43cb-ada5-233e3892bd6d",
        "colab": {
          "base_uri": "https://localhost:8080/"
        }
      },
      "execution_count": 21,
      "outputs": [
        {
          "output_type": "stream",
          "name": "stdout",
          "text": [
            "A   -0.134841\n",
            "B    0.390528\n",
            "C    0.166905\n",
            "D    0.184502\n",
            "E    0.807706\n",
            "F    0.072960\n",
            "H   -0.301745\n",
            "Name: 4, dtype: float64\n"
          ]
        }
      ]
    },
    {
      "cell_type": "markdown",
      "source": [
        "###Selecting Subsets"
      ],
      "metadata": {
        "id": "uKqbdxKrpWkC"
      }
    },
    {
      "cell_type": "code",
      "execution_count": 22,
      "metadata": {
        "id": "2km6E8wjjnTx",
        "outputId": "41e9651c-2808-400c-994f-2b41faee449c",
        "colab": {
          "base_uri": "https://localhost:8080/"
        }
      },
      "outputs": [
        {
          "output_type": "stream",
          "name": "stdout",
          "text": [
            "          A         B         C\n",
            "0  2.706850  0.628133  0.907969\n",
            "1 -0.848077  0.605965 -2.018168\n",
            "2  0.188695 -0.758872 -0.933237\n",
            "3  2.605967  0.683509  0.302665\n"
          ]
        }
      ],
      "source": [
        "# Selecting a subset of rows and columns\n",
        "print(df.loc[:3, \"A\":\"C\"])"
      ]
    },
    {
      "cell_type": "code",
      "execution_count": 23,
      "metadata": {
        "id": "wxatDN5ljnTx",
        "outputId": "6a8b0bee-cd3f-4e61-e182-e58ce64e4552",
        "colab": {
          "base_uri": "https://localhost:8080/"
        }
      },
      "outputs": [
        {
          "output_type": "stream",
          "name": "stdout",
          "text": [
            "          A         C\n",
            "1 -0.848077 -2.018168\n",
            "5  0.638787 -0.497104\n"
          ]
        }
      ],
      "source": [
        "print(df.loc[[1, 5], ['A', 'C']])"
      ]
    },
    {
      "cell_type": "markdown",
      "metadata": {
        "id": "3o8MxnBBjnTy"
      },
      "source": [
        "### Conditional Selection"
      ]
    },
    {
      "cell_type": "code",
      "execution_count": 24,
      "metadata": {
        "id": "GHl1A2o4jnTy",
        "outputId": "90ae9c1c-343b-4b4f-e8ae-b58ffddeab9b",
        "colab": {
          "base_uri": "https://localhost:8080/"
        }
      },
      "outputs": [
        {
          "output_type": "stream",
          "name": "stdout",
          "text": [
            "          A         B         C         D         E         F         H\n",
            "0  2.706850  0.628133  0.907969  0.503826  0.651118 -0.319318  1.798880\n",
            "1 -0.848077  0.605965 -2.018168  0.740122  0.528813 -0.589001  1.170091\n",
            "2  0.188695 -0.758872 -0.933237  0.955057  0.190794  1.978757  1.121933\n",
            "4 -0.134841  0.390528  0.166905  0.184502  0.807706  0.072960 -0.301745\n",
            "8  2.154846 -0.610259 -0.755325 -0.346419  0.147027 -0.479448  2.910172\n"
          ]
        }
      ],
      "source": [
        "# Applying conditions\n",
        "print(df[df['E'] > 0])"
      ]
    },
    {
      "cell_type": "code",
      "execution_count": 25,
      "metadata": {
        "id": "4I0-K3_5jnTy",
        "outputId": "0a88e2db-2c3d-4f33-cf04-f34c69ae0dff",
        "colab": {
          "base_uri": "https://localhost:8080/"
        }
      },
      "outputs": [
        {
          "output_type": "stream",
          "name": "stdout",
          "text": [
            "          A         B         C         D         E         F         H\n",
            "2  0.188695 -0.758872 -0.933237  0.955057  0.190794  1.978757  1.121933\n",
            "5  0.638787  0.329646 -0.497104 -0.754070 -0.943406  0.484752  1.135891\n",
            "8  2.154846 -0.610259 -0.755325 -0.346419  0.147027 -0.479448  2.910172\n",
            "9  0.558769  1.024810 -0.925874  1.862864 -1.133817  0.610478  1.484644\n"
          ]
        }
      ],
      "source": [
        "print(df[(df['A'] > 0) & (df['C'] < 0)])"
      ]
    },
    {
      "cell_type": "markdown",
      "source": [
        "###Handling Missing Values"
      ],
      "metadata": {
        "id": "YMC2PCBTprIc"
      }
    },
    {
      "cell_type": "code",
      "execution_count": 26,
      "metadata": {
        "id": "zDZkc8zrjnTy",
        "outputId": "63dd3e93-48e0-4b1d-c288-4ca1afa346ba",
        "colab": {
          "base_uri": "https://localhost:8080/"
        }
      },
      "outputs": [
        {
          "output_type": "stream",
          "name": "stdout",
          "text": [
            "     A    B    C\n",
            "0  1.0  4.0  7.0\n",
            "1  2.0  NaN  8.0\n",
            "2  NaN  NaN  9.0\n"
          ]
        }
      ],
      "source": [
        "df = pd.DataFrame({\n",
        "    'A': [1, 2, np.nan],\n",
        "    'B': [4, np.nan, np.nan],\n",
        "    'C': [7.0, 8, 9]\n",
        "})\n",
        "print(df)"
      ]
    },
    {
      "cell_type": "code",
      "execution_count": 27,
      "metadata": {
        "id": "xOezgTq_jnTz",
        "outputId": "84c7395d-c5fd-4f9b-b371-4b95e14f8d4c",
        "colab": {
          "base_uri": "https://localhost:8080/"
        }
      },
      "outputs": [
        {
          "output_type": "stream",
          "name": "stdout",
          "text": [
            "     A    B    C\n",
            "0  1.0  4.0  7.0\n"
          ]
        }
      ],
      "source": [
        "# Dropping missing values\n",
        "print(df.dropna())"
      ]
    },
    {
      "cell_type": "code",
      "source": [
        "# Filling missing values\n",
        "df['A'].fillna(value=df['A'].mean(), inplace=True)\n",
        "df['B'].fillna(value=df['B'].mean(), inplace=True)\n",
        "print(df)"
      ],
      "metadata": {
        "id": "Tu2IfK4op4Gi",
        "outputId": "407790c9-00b4-452a-df05-3700b43304b2",
        "colab": {
          "base_uri": "https://localhost:8080/"
        }
      },
      "execution_count": 29,
      "outputs": [
        {
          "output_type": "stream",
          "name": "stdout",
          "text": [
            "     A    B    C\n",
            "0  1.0  4.0  7.0\n",
            "1  2.0  4.0  8.0\n",
            "2  1.5  4.0  9.0\n"
          ]
        },
        {
          "output_type": "stream",
          "name": "stderr",
          "text": [
            "<ipython-input-29-846879c4fe05>:2: FutureWarning: A value is trying to be set on a copy of a DataFrame or Series through chained assignment using an inplace method.\n",
            "The behavior will change in pandas 3.0. This inplace method will never work because the intermediate object on which we are setting values always behaves as a copy.\n",
            "\n",
            "For example, when doing 'df[col].method(value, inplace=True)', try using 'df.method({col: value}, inplace=True)' or df[col] = df[col].method(value) instead, to perform the operation inplace on the original object.\n",
            "\n",
            "\n",
            "  df['A'].fillna(value=df['A'].mean(), inplace=True)\n",
            "<ipython-input-29-846879c4fe05>:3: FutureWarning: A value is trying to be set on a copy of a DataFrame or Series through chained assignment using an inplace method.\n",
            "The behavior will change in pandas 3.0. This inplace method will never work because the intermediate object on which we are setting values always behaves as a copy.\n",
            "\n",
            "For example, when doing 'df[col].method(value, inplace=True)', try using 'df.method({col: value}, inplace=True)' or df[col] = df[col].method(value) instead, to perform the operation inplace on the original object.\n",
            "\n",
            "\n",
            "  df['B'].fillna(value=df['B'].mean(), inplace=True)\n"
          ]
        }
      ]
    },
    {
      "cell_type": "markdown",
      "metadata": {
        "id": "LkIPSbC2jnTz"
      },
      "source": [
        "## GroupBy Operations"
      ]
    },
    {
      "cell_type": "code",
      "execution_count": 37,
      "metadata": {
        "id": "AMZoVuHNjnT0",
        "outputId": "63738a13-00af-4d93-be6e-ac2bcd3a9be3",
        "colab": {
          "base_uri": "https://localhost:8080/"
        }
      },
      "outputs": [
        {
          "output_type": "stream",
          "name": "stdout",
          "text": [
            "          Sales\n",
            "Company        \n",
            "Apple     200.0\n",
            "Facebook  300.0\n",
            "Google    175.0\n"
          ]
        }
      ],
      "source": [
        "data = {\n",
        "    'Company': ['Google', 'Google', 'Apple', 'Apple', 'Facebook', 'Facebook'],\n",
        "    'Person': ['Sam', 'Charlie', 'Amy', 'Sally', 'Carl', 'Sarah'],\n",
        "    'Sales': [200, 150, 300, 100, 250, 350]\n",
        "}\n",
        "df = pd.DataFrame(data)\n",
        "\n",
        "# Grouping by 'Company'\n",
        "df_group = df.groupby('Company')\n",
        "print(df_group[['Sales']].mean())\n"
      ]
    },
    {
      "cell_type": "markdown",
      "source": [
        "###Merging, Joining, and Concatenating"
      ],
      "metadata": {
        "id": "rNlzBF0BuBHl"
      }
    },
    {
      "cell_type": "markdown",
      "source": [
        "####Concatenation"
      ],
      "metadata": {
        "id": "EkLl8C39uGpA"
      }
    },
    {
      "cell_type": "code",
      "execution_count": 38,
      "metadata": {
        "id": "LxVeJvlgjnT0",
        "outputId": "ed2541bf-72f4-4b53-f4fb-755e0c950969",
        "colab": {
          "base_uri": "https://localhost:8080/"
        }
      },
      "outputs": [
        {
          "output_type": "stream",
          "name": "stdout",
          "text": [
            "      A    B    C    D\n",
            "0    A0   B0   C0   D0\n",
            "1    A1   B1   C1   D1\n",
            "2    A2   B2   C2   D2\n",
            "3    A3   B3   C3   D3\n",
            "4    A4   B4   C4   D4\n",
            "5    A5   B5   C5   D5\n",
            "6    A6   B6   C6   D6\n",
            "7    A7   B7   C7   D7\n",
            "8    A8   B8   C8   D8\n",
            "9    A9   B9   C9   D9\n",
            "10  A10  B10  C10  D10\n",
            "11  A11  B11  C11  D11\n"
          ]
        }
      ],
      "source": [
        "df1 = pd.DataFrame({\n",
        "    'A': ['A0', 'A1', 'A2', 'A3'],\n",
        "    'B': ['B0', 'B1', 'B2', 'B3'],\n",
        "    'C': ['C0', 'C1', 'C2', 'C3'],\n",
        "    'D': ['D0', 'D1', 'D2', 'D3']\n",
        "}, index=[0, 1, 2, 3])\n",
        "\n",
        "df2 = pd.DataFrame({\n",
        "    'A': ['A4', 'A5', 'A6', 'A7'],\n",
        "    'B': ['B4', 'B5', 'B6', 'B7'],\n",
        "    'C': ['C4', 'C5', 'C6', 'C7'],\n",
        "    'D': ['D4', 'D5', 'D6', 'D7']\n",
        "}, index=[4, 5, 6, 7])\n",
        "\n",
        "df3 = pd.DataFrame({\n",
        "    'A': ['A8', 'A9', 'A10', 'A11'],\n",
        "    'B': ['B8', 'B9', 'B10', 'B11'],\n",
        "    'C': ['C8', 'C9', 'C10', 'C11'],\n",
        "    'D': ['D8', 'D9', 'D10', 'D11']\n",
        "}, index=[8, 9, 10, 11])\n",
        "\n",
        "# Concatenating along rows\n",
        "result = pd.concat([df1, df2, df3])\n",
        "print(result)"
      ]
    },
    {
      "cell_type": "code",
      "source": [
        "# Concatenating along columns\n",
        "result = pd.concat([df1, df2, df3], axis=1)\n",
        "print(result)"
      ],
      "metadata": {
        "id": "Ee_v2xG0uOLQ",
        "outputId": "830b6bad-feac-4320-cde5-d977cb525651",
        "colab": {
          "base_uri": "https://localhost:8080/"
        }
      },
      "execution_count": 39,
      "outputs": [
        {
          "output_type": "stream",
          "name": "stdout",
          "text": [
            "      A    B    C    D    A    B    C    D    A    B    C    D\n",
            "0    A0   B0   C0   D0  NaN  NaN  NaN  NaN  NaN  NaN  NaN  NaN\n",
            "1    A1   B1   C1   D1  NaN  NaN  NaN  NaN  NaN  NaN  NaN  NaN\n",
            "2    A2   B2   C2   D2  NaN  NaN  NaN  NaN  NaN  NaN  NaN  NaN\n",
            "3    A3   B3   C3   D3  NaN  NaN  NaN  NaN  NaN  NaN  NaN  NaN\n",
            "4   NaN  NaN  NaN  NaN   A4   B4   C4   D4  NaN  NaN  NaN  NaN\n",
            "5   NaN  NaN  NaN  NaN   A5   B5   C5   D5  NaN  NaN  NaN  NaN\n",
            "6   NaN  NaN  NaN  NaN   A6   B6   C6   D6  NaN  NaN  NaN  NaN\n",
            "7   NaN  NaN  NaN  NaN   A7   B7   C7   D7  NaN  NaN  NaN  NaN\n",
            "8   NaN  NaN  NaN  NaN  NaN  NaN  NaN  NaN   A8   B8   C8   D8\n",
            "9   NaN  NaN  NaN  NaN  NaN  NaN  NaN  NaN   A9   B9   C9   D9\n",
            "10  NaN  NaN  NaN  NaN  NaN  NaN  NaN  NaN  A10  B10  C10  D10\n",
            "11  NaN  NaN  NaN  NaN  NaN  NaN  NaN  NaN  A11  B11  C11  D11\n"
          ]
        }
      ]
    },
    {
      "cell_type": "markdown",
      "source": [
        "####Merging"
      ],
      "metadata": {
        "id": "ISHVxIS0uY8c"
      }
    },
    {
      "cell_type": "code",
      "execution_count": 40,
      "metadata": {
        "id": "YbeOpJFfjnT0",
        "outputId": "71227dc9-d6c4-4814-f4e4-3ee27152b289",
        "colab": {
          "base_uri": "https://localhost:8080/"
        }
      },
      "outputs": [
        {
          "output_type": "stream",
          "name": "stdout",
          "text": [
            "  key   A   B   C   D\n",
            "0  K0  A0  B0  C0  D0\n",
            "1  K1  A1  B1  C1  D1\n",
            "2  K2  A2  B2  C2  D2\n",
            "3  K3  A3  B3  C3  D3\n"
          ]
        }
      ],
      "source": [
        "left = pd.DataFrame({\n",
        "    'key': ['K0', 'K1', 'K2', 'K3'],\n",
        "    'A': ['A0', 'A1', 'A2', 'A3'],\n",
        "    'B': ['B0', 'B1', 'B2', 'B3']\n",
        "})\n",
        "\n",
        "right = pd.DataFrame({\n",
        "    'key': ['K0', 'K1', 'K2', 'K3'],\n",
        "    'C': ['C0', 'C1', 'C2', 'C3'],\n",
        "    'D': ['D0', 'D1', 'D2', 'D3']\n",
        "})\n",
        "\n",
        "# Merging on 'key'\n",
        "merged_df = pd.merge(left, right, on='key')\n",
        "print(merged_df)\n"
      ]
    },
    {
      "cell_type": "markdown",
      "metadata": {
        "id": "40PKvR8gjnUN"
      },
      "source": [
        "### CSV File"
      ]
    },
    {
      "cell_type": "code",
      "execution_count": 47,
      "metadata": {
        "id": "yrWiI2i_jnUN",
        "outputId": "2c091a91-e810-4230-bdde-519ccfd92a33",
        "colab": {
          "base_uri": "https://localhost:8080/",
          "height": 175
        }
      },
      "outputs": [
        {
          "output_type": "execute_result",
          "data": {
            "text/plain": [
              "   Unnamed: 0   a   b   c   d\n",
              "0           0   0   1   2   3\n",
              "1           1   4   5   6   7\n",
              "2           2   8   9  10  11\n",
              "3           3  12  13  14  15"
            ],
            "text/html": [
              "\n",
              "  <div id=\"df-f6159dde-1d1a-4137-8d67-5f21a6201310\" class=\"colab-df-container\">\n",
              "    <div>\n",
              "<style scoped>\n",
              "    .dataframe tbody tr th:only-of-type {\n",
              "        vertical-align: middle;\n",
              "    }\n",
              "\n",
              "    .dataframe tbody tr th {\n",
              "        vertical-align: top;\n",
              "    }\n",
              "\n",
              "    .dataframe thead th {\n",
              "        text-align: right;\n",
              "    }\n",
              "</style>\n",
              "<table border=\"1\" class=\"dataframe\">\n",
              "  <thead>\n",
              "    <tr style=\"text-align: right;\">\n",
              "      <th></th>\n",
              "      <th>Unnamed: 0</th>\n",
              "      <th>a</th>\n",
              "      <th>b</th>\n",
              "      <th>c</th>\n",
              "      <th>d</th>\n",
              "    </tr>\n",
              "  </thead>\n",
              "  <tbody>\n",
              "    <tr>\n",
              "      <th>0</th>\n",
              "      <td>0</td>\n",
              "      <td>0</td>\n",
              "      <td>1</td>\n",
              "      <td>2</td>\n",
              "      <td>3</td>\n",
              "    </tr>\n",
              "    <tr>\n",
              "      <th>1</th>\n",
              "      <td>1</td>\n",
              "      <td>4</td>\n",
              "      <td>5</td>\n",
              "      <td>6</td>\n",
              "      <td>7</td>\n",
              "    </tr>\n",
              "    <tr>\n",
              "      <th>2</th>\n",
              "      <td>2</td>\n",
              "      <td>8</td>\n",
              "      <td>9</td>\n",
              "      <td>10</td>\n",
              "      <td>11</td>\n",
              "    </tr>\n",
              "    <tr>\n",
              "      <th>3</th>\n",
              "      <td>3</td>\n",
              "      <td>12</td>\n",
              "      <td>13</td>\n",
              "      <td>14</td>\n",
              "      <td>15</td>\n",
              "    </tr>\n",
              "  </tbody>\n",
              "</table>\n",
              "</div>\n",
              "    <div class=\"colab-df-buttons\">\n",
              "\n",
              "  <div class=\"colab-df-container\">\n",
              "    <button class=\"colab-df-convert\" onclick=\"convertToInteractive('df-f6159dde-1d1a-4137-8d67-5f21a6201310')\"\n",
              "            title=\"Convert this dataframe to an interactive table.\"\n",
              "            style=\"display:none;\">\n",
              "\n",
              "  <svg xmlns=\"http://www.w3.org/2000/svg\" height=\"24px\" viewBox=\"0 -960 960 960\">\n",
              "    <path d=\"M120-120v-720h720v720H120Zm60-500h600v-160H180v160Zm220 220h160v-160H400v160Zm0 220h160v-160H400v160ZM180-400h160v-160H180v160Zm440 0h160v-160H620v160ZM180-180h160v-160H180v160Zm440 0h160v-160H620v160Z\"/>\n",
              "  </svg>\n",
              "    </button>\n",
              "\n",
              "  <style>\n",
              "    .colab-df-container {\n",
              "      display:flex;\n",
              "      gap: 12px;\n",
              "    }\n",
              "\n",
              "    .colab-df-convert {\n",
              "      background-color: #E8F0FE;\n",
              "      border: none;\n",
              "      border-radius: 50%;\n",
              "      cursor: pointer;\n",
              "      display: none;\n",
              "      fill: #1967D2;\n",
              "      height: 32px;\n",
              "      padding: 0 0 0 0;\n",
              "      width: 32px;\n",
              "    }\n",
              "\n",
              "    .colab-df-convert:hover {\n",
              "      background-color: #E2EBFA;\n",
              "      box-shadow: 0px 1px 2px rgba(60, 64, 67, 0.3), 0px 1px 3px 1px rgba(60, 64, 67, 0.15);\n",
              "      fill: #174EA6;\n",
              "    }\n",
              "\n",
              "    .colab-df-buttons div {\n",
              "      margin-bottom: 4px;\n",
              "    }\n",
              "\n",
              "    [theme=dark] .colab-df-convert {\n",
              "      background-color: #3B4455;\n",
              "      fill: #D2E3FC;\n",
              "    }\n",
              "\n",
              "    [theme=dark] .colab-df-convert:hover {\n",
              "      background-color: #434B5C;\n",
              "      box-shadow: 0px 1px 3px 1px rgba(0, 0, 0, 0.15);\n",
              "      filter: drop-shadow(0px 1px 2px rgba(0, 0, 0, 0.3));\n",
              "      fill: #FFFFFF;\n",
              "    }\n",
              "  </style>\n",
              "\n",
              "    <script>\n",
              "      const buttonEl =\n",
              "        document.querySelector('#df-f6159dde-1d1a-4137-8d67-5f21a6201310 button.colab-df-convert');\n",
              "      buttonEl.style.display =\n",
              "        google.colab.kernel.accessAllowed ? 'block' : 'none';\n",
              "\n",
              "      async function convertToInteractive(key) {\n",
              "        const element = document.querySelector('#df-f6159dde-1d1a-4137-8d67-5f21a6201310');\n",
              "        const dataTable =\n",
              "          await google.colab.kernel.invokeFunction('convertToInteractive',\n",
              "                                                    [key], {});\n",
              "        if (!dataTable) return;\n",
              "\n",
              "        const docLinkHtml = 'Like what you see? Visit the ' +\n",
              "          '<a target=\"_blank\" href=https://colab.research.google.com/notebooks/data_table.ipynb>data table notebook</a>'\n",
              "          + ' to learn more about interactive tables.';\n",
              "        element.innerHTML = '';\n",
              "        dataTable['output_type'] = 'display_data';\n",
              "        await google.colab.output.renderOutput(dataTable, element);\n",
              "        const docLink = document.createElement('div');\n",
              "        docLink.innerHTML = docLinkHtml;\n",
              "        element.appendChild(docLink);\n",
              "      }\n",
              "    </script>\n",
              "  </div>\n",
              "\n",
              "\n",
              "<div id=\"df-f3b79ad2-5a3f-40d0-8bde-e8eb94105e33\">\n",
              "  <button class=\"colab-df-quickchart\" onclick=\"quickchart('df-f3b79ad2-5a3f-40d0-8bde-e8eb94105e33')\"\n",
              "            title=\"Suggest charts\"\n",
              "            style=\"display:none;\">\n",
              "\n",
              "<svg xmlns=\"http://www.w3.org/2000/svg\" height=\"24px\"viewBox=\"0 0 24 24\"\n",
              "     width=\"24px\">\n",
              "    <g>\n",
              "        <path d=\"M19 3H5c-1.1 0-2 .9-2 2v14c0 1.1.9 2 2 2h14c1.1 0 2-.9 2-2V5c0-1.1-.9-2-2-2zM9 17H7v-7h2v7zm4 0h-2V7h2v10zm4 0h-2v-4h2v4z\"/>\n",
              "    </g>\n",
              "</svg>\n",
              "  </button>\n",
              "\n",
              "<style>\n",
              "  .colab-df-quickchart {\n",
              "      --bg-color: #E8F0FE;\n",
              "      --fill-color: #1967D2;\n",
              "      --hover-bg-color: #E2EBFA;\n",
              "      --hover-fill-color: #174EA6;\n",
              "      --disabled-fill-color: #AAA;\n",
              "      --disabled-bg-color: #DDD;\n",
              "  }\n",
              "\n",
              "  [theme=dark] .colab-df-quickchart {\n",
              "      --bg-color: #3B4455;\n",
              "      --fill-color: #D2E3FC;\n",
              "      --hover-bg-color: #434B5C;\n",
              "      --hover-fill-color: #FFFFFF;\n",
              "      --disabled-bg-color: #3B4455;\n",
              "      --disabled-fill-color: #666;\n",
              "  }\n",
              "\n",
              "  .colab-df-quickchart {\n",
              "    background-color: var(--bg-color);\n",
              "    border: none;\n",
              "    border-radius: 50%;\n",
              "    cursor: pointer;\n",
              "    display: none;\n",
              "    fill: var(--fill-color);\n",
              "    height: 32px;\n",
              "    padding: 0;\n",
              "    width: 32px;\n",
              "  }\n",
              "\n",
              "  .colab-df-quickchart:hover {\n",
              "    background-color: var(--hover-bg-color);\n",
              "    box-shadow: 0 1px 2px rgba(60, 64, 67, 0.3), 0 1px 3px 1px rgba(60, 64, 67, 0.15);\n",
              "    fill: var(--button-hover-fill-color);\n",
              "  }\n",
              "\n",
              "  .colab-df-quickchart-complete:disabled,\n",
              "  .colab-df-quickchart-complete:disabled:hover {\n",
              "    background-color: var(--disabled-bg-color);\n",
              "    fill: var(--disabled-fill-color);\n",
              "    box-shadow: none;\n",
              "  }\n",
              "\n",
              "  .colab-df-spinner {\n",
              "    border: 2px solid var(--fill-color);\n",
              "    border-color: transparent;\n",
              "    border-bottom-color: var(--fill-color);\n",
              "    animation:\n",
              "      spin 1s steps(1) infinite;\n",
              "  }\n",
              "\n",
              "  @keyframes spin {\n",
              "    0% {\n",
              "      border-color: transparent;\n",
              "      border-bottom-color: var(--fill-color);\n",
              "      border-left-color: var(--fill-color);\n",
              "    }\n",
              "    20% {\n",
              "      border-color: transparent;\n",
              "      border-left-color: var(--fill-color);\n",
              "      border-top-color: var(--fill-color);\n",
              "    }\n",
              "    30% {\n",
              "      border-color: transparent;\n",
              "      border-left-color: var(--fill-color);\n",
              "      border-top-color: var(--fill-color);\n",
              "      border-right-color: var(--fill-color);\n",
              "    }\n",
              "    40% {\n",
              "      border-color: transparent;\n",
              "      border-right-color: var(--fill-color);\n",
              "      border-top-color: var(--fill-color);\n",
              "    }\n",
              "    60% {\n",
              "      border-color: transparent;\n",
              "      border-right-color: var(--fill-color);\n",
              "    }\n",
              "    80% {\n",
              "      border-color: transparent;\n",
              "      border-right-color: var(--fill-color);\n",
              "      border-bottom-color: var(--fill-color);\n",
              "    }\n",
              "    90% {\n",
              "      border-color: transparent;\n",
              "      border-bottom-color: var(--fill-color);\n",
              "    }\n",
              "  }\n",
              "</style>\n",
              "\n",
              "  <script>\n",
              "    async function quickchart(key) {\n",
              "      const quickchartButtonEl =\n",
              "        document.querySelector('#' + key + ' button');\n",
              "      quickchartButtonEl.disabled = true;  // To prevent multiple clicks.\n",
              "      quickchartButtonEl.classList.add('colab-df-spinner');\n",
              "      try {\n",
              "        const charts = await google.colab.kernel.invokeFunction(\n",
              "            'suggestCharts', [key], {});\n",
              "      } catch (error) {\n",
              "        console.error('Error during call to suggestCharts:', error);\n",
              "      }\n",
              "      quickchartButtonEl.classList.remove('colab-df-spinner');\n",
              "      quickchartButtonEl.classList.add('colab-df-quickchart-complete');\n",
              "    }\n",
              "    (() => {\n",
              "      let quickchartButtonEl =\n",
              "        document.querySelector('#df-f3b79ad2-5a3f-40d0-8bde-e8eb94105e33 button');\n",
              "      quickchartButtonEl.style.display =\n",
              "        google.colab.kernel.accessAllowed ? 'block' : 'none';\n",
              "    })();\n",
              "  </script>\n",
              "</div>\n",
              "\n",
              "  <div id=\"id_796481fa-3c46-4e8e-964c-a8dd253ec5ab\">\n",
              "    <style>\n",
              "      .colab-df-generate {\n",
              "        background-color: #E8F0FE;\n",
              "        border: none;\n",
              "        border-radius: 50%;\n",
              "        cursor: pointer;\n",
              "        display: none;\n",
              "        fill: #1967D2;\n",
              "        height: 32px;\n",
              "        padding: 0 0 0 0;\n",
              "        width: 32px;\n",
              "      }\n",
              "\n",
              "      .colab-df-generate:hover {\n",
              "        background-color: #E2EBFA;\n",
              "        box-shadow: 0px 1px 2px rgba(60, 64, 67, 0.3), 0px 1px 3px 1px rgba(60, 64, 67, 0.15);\n",
              "        fill: #174EA6;\n",
              "      }\n",
              "\n",
              "      [theme=dark] .colab-df-generate {\n",
              "        background-color: #3B4455;\n",
              "        fill: #D2E3FC;\n",
              "      }\n",
              "\n",
              "      [theme=dark] .colab-df-generate:hover {\n",
              "        background-color: #434B5C;\n",
              "        box-shadow: 0px 1px 3px 1px rgba(0, 0, 0, 0.15);\n",
              "        filter: drop-shadow(0px 1px 2px rgba(0, 0, 0, 0.3));\n",
              "        fill: #FFFFFF;\n",
              "      }\n",
              "    </style>\n",
              "    <button class=\"colab-df-generate\" onclick=\"generateWithVariable('df')\"\n",
              "            title=\"Generate code using this dataframe.\"\n",
              "            style=\"display:none;\">\n",
              "\n",
              "  <svg xmlns=\"http://www.w3.org/2000/svg\" height=\"24px\"viewBox=\"0 0 24 24\"\n",
              "       width=\"24px\">\n",
              "    <path d=\"M7,19H8.4L18.45,9,17,7.55,7,17.6ZM5,21V16.75L18.45,3.32a2,2,0,0,1,2.83,0l1.4,1.43a1.91,1.91,0,0,1,.58,1.4,1.91,1.91,0,0,1-.58,1.4L9.25,21ZM18.45,9,17,7.55Zm-12,3A5.31,5.31,0,0,0,4.9,8.1,5.31,5.31,0,0,0,1,6.5,5.31,5.31,0,0,0,4.9,4.9,5.31,5.31,0,0,0,6.5,1,5.31,5.31,0,0,0,8.1,4.9,5.31,5.31,0,0,0,12,6.5,5.46,5.46,0,0,0,6.5,12Z\"/>\n",
              "  </svg>\n",
              "    </button>\n",
              "    <script>\n",
              "      (() => {\n",
              "      const buttonEl =\n",
              "        document.querySelector('#id_796481fa-3c46-4e8e-964c-a8dd253ec5ab button.colab-df-generate');\n",
              "      buttonEl.style.display =\n",
              "        google.colab.kernel.accessAllowed ? 'block' : 'none';\n",
              "\n",
              "      buttonEl.onclick = () => {\n",
              "        google.colab.notebook.generateWithVariable('df');\n",
              "      }\n",
              "      })();\n",
              "    </script>\n",
              "  </div>\n",
              "\n",
              "    </div>\n",
              "  </div>\n"
            ],
            "application/vnd.google.colaboratory.intrinsic+json": {
              "type": "dataframe",
              "variable_name": "df",
              "summary": "{\n  \"name\": \"df\",\n  \"rows\": 4,\n  \"fields\": [\n    {\n      \"column\": \"Unnamed: 0\",\n      \"properties\": {\n        \"dtype\": \"number\",\n        \"std\": 1,\n        \"min\": 0,\n        \"max\": 3,\n        \"num_unique_values\": 4,\n        \"samples\": [\n          1,\n          3,\n          0\n        ],\n        \"semantic_type\": \"\",\n        \"description\": \"\"\n      }\n    },\n    {\n      \"column\": \"a\",\n      \"properties\": {\n        \"dtype\": \"number\",\n        \"std\": 5,\n        \"min\": 0,\n        \"max\": 12,\n        \"num_unique_values\": 4,\n        \"samples\": [\n          4,\n          12,\n          0\n        ],\n        \"semantic_type\": \"\",\n        \"description\": \"\"\n      }\n    },\n    {\n      \"column\": \"b\",\n      \"properties\": {\n        \"dtype\": \"number\",\n        \"std\": 5,\n        \"min\": 1,\n        \"max\": 13,\n        \"num_unique_values\": 4,\n        \"samples\": [\n          5,\n          13,\n          1\n        ],\n        \"semantic_type\": \"\",\n        \"description\": \"\"\n      }\n    },\n    {\n      \"column\": \"c\",\n      \"properties\": {\n        \"dtype\": \"number\",\n        \"std\": 5,\n        \"min\": 2,\n        \"max\": 14,\n        \"num_unique_values\": 4,\n        \"samples\": [\n          6,\n          14,\n          2\n        ],\n        \"semantic_type\": \"\",\n        \"description\": \"\"\n      }\n    },\n    {\n      \"column\": \"d\",\n      \"properties\": {\n        \"dtype\": \"number\",\n        \"std\": 5,\n        \"min\": 3,\n        \"max\": 15,\n        \"num_unique_values\": 4,\n        \"samples\": [\n          7,\n          15,\n          3\n        ],\n        \"semantic_type\": \"\",\n        \"description\": \"\"\n      }\n    }\n  ]\n}"
            }
          },
          "metadata": {},
          "execution_count": 47
        }
      ],
      "source": [
        "import pandas as pd\n",
        "df = pd.read_csv(\"/content/sample_data/Excel_Sample.csv\")\n",
        "df"
      ]
    },
    {
      "cell_type": "code",
      "execution_count": 48,
      "metadata": {
        "id": "4CGCv3C4jnUO",
        "outputId": "e20258e5-1330-46db-c25a-e5274138d103",
        "colab": {
          "base_uri": "https://localhost:8080/"
        }
      },
      "outputs": [
        {
          "output_type": "execute_result",
          "data": {
            "text/plain": [
              "[                               Bank Name               City         State  \\\n",
              " 0                   Pulaski Savings Bank            Chicago      Illinois   \n",
              " 1     The First National Bank of Lindsay            Lindsay      Oklahoma   \n",
              " 2  Republic First Bank dba Republic Bank       Philadelphia  Pennsylvania   \n",
              " 3                          Citizens Bank           Sac City          Iowa   \n",
              " 4               Heartland Tri-State Bank            Elkhart        Kansas   \n",
              " 5                    First Republic Bank      San Francisco    California   \n",
              " 6                         Signature Bank           New York      New York   \n",
              " 7                    Silicon Valley Bank        Santa Clara    California   \n",
              " 8                      Almena State Bank             Almena        Kansas   \n",
              " 9             First City Bank of Florida  Fort Walton Beach       Florida   \n",
              " \n",
              "     Cert                 Aquiring Institution      Closing Date  \\\n",
              " 0  28611                      Millennium Bank  January 17, 2025   \n",
              " 1   4134   First Bank & Trust Co., Duncan, OK  October 18, 2024   \n",
              " 2  27332    Fulton Bank, National Association    April 26, 2024   \n",
              " 3   8758            Iowa Trust & Savings Bank  November 3, 2023   \n",
              " 4  25851               Dream First Bank, N.A.     July 28, 2023   \n",
              " 5  59017            JPMorgan Chase Bank, N.A.       May 1, 2023   \n",
              " 6  57053                  Flagstar Bank, N.A.    March 12, 2023   \n",
              " 7  24735  First Citizens Bank & Trust Company    March 10, 2023   \n",
              " 8  15426                          Equity Bank  October 23, 2020   \n",
              " 9  16748            United Fidelity Bank, fsb  October 16, 2020   \n",
              " \n",
              "    Fund  Sort ascending  \n",
              " 0                 10548  \n",
              " 1                 10547  \n",
              " 2                 10546  \n",
              " 3                 10545  \n",
              " 4                 10544  \n",
              " 5                 10543  \n",
              " 6                 10540  \n",
              " 7                 10539  \n",
              " 8                 10538  \n",
              " 9                 10537  ]"
            ]
          },
          "metadata": {},
          "execution_count": 48
        }
      ],
      "source": [
        "df = pd.read_html('https://www.fdic.gov/resources/resolutions/bank-failures/failed-bank-list/')\n",
        "df"
      ]
    },
    {
      "cell_type": "code",
      "execution_count": 49,
      "metadata": {
        "id": "96gcjpcDjnUP",
        "outputId": "9dda4755-fd92-41d1-8709-720dd75bab34",
        "colab": {
          "base_uri": "https://localhost:8080/",
          "height": 449
        }
      },
      "outputs": [
        {
          "output_type": "execute_result",
          "data": {
            "text/plain": [
              "                               Bank Name               City         State  \\\n",
              "0                   Pulaski Savings Bank            Chicago      Illinois   \n",
              "1     The First National Bank of Lindsay            Lindsay      Oklahoma   \n",
              "2  Republic First Bank dba Republic Bank       Philadelphia  Pennsylvania   \n",
              "3                          Citizens Bank           Sac City          Iowa   \n",
              "4               Heartland Tri-State Bank            Elkhart        Kansas   \n",
              "5                    First Republic Bank      San Francisco    California   \n",
              "6                         Signature Bank           New York      New York   \n",
              "7                    Silicon Valley Bank        Santa Clara    California   \n",
              "8                      Almena State Bank             Almena        Kansas   \n",
              "9             First City Bank of Florida  Fort Walton Beach       Florida   \n",
              "\n",
              "    Cert                 Aquiring Institution      Closing Date  \\\n",
              "0  28611                      Millennium Bank  January 17, 2025   \n",
              "1   4134   First Bank & Trust Co., Duncan, OK  October 18, 2024   \n",
              "2  27332    Fulton Bank, National Association    April 26, 2024   \n",
              "3   8758            Iowa Trust & Savings Bank  November 3, 2023   \n",
              "4  25851               Dream First Bank, N.A.     July 28, 2023   \n",
              "5  59017            JPMorgan Chase Bank, N.A.       May 1, 2023   \n",
              "6  57053                  Flagstar Bank, N.A.    March 12, 2023   \n",
              "7  24735  First Citizens Bank & Trust Company    March 10, 2023   \n",
              "8  15426                          Equity Bank  October 23, 2020   \n",
              "9  16748            United Fidelity Bank, fsb  October 16, 2020   \n",
              "\n",
              "   Fund  Sort ascending  \n",
              "0                 10548  \n",
              "1                 10547  \n",
              "2                 10546  \n",
              "3                 10545  \n",
              "4                 10544  \n",
              "5                 10543  \n",
              "6                 10540  \n",
              "7                 10539  \n",
              "8                 10538  \n",
              "9                 10537  "
            ],
            "text/html": [
              "\n",
              "  <div id=\"df-97d1274b-f328-4b78-bf71-b5599db60be5\" class=\"colab-df-container\">\n",
              "    <div>\n",
              "<style scoped>\n",
              "    .dataframe tbody tr th:only-of-type {\n",
              "        vertical-align: middle;\n",
              "    }\n",
              "\n",
              "    .dataframe tbody tr th {\n",
              "        vertical-align: top;\n",
              "    }\n",
              "\n",
              "    .dataframe thead th {\n",
              "        text-align: right;\n",
              "    }\n",
              "</style>\n",
              "<table border=\"1\" class=\"dataframe\">\n",
              "  <thead>\n",
              "    <tr style=\"text-align: right;\">\n",
              "      <th></th>\n",
              "      <th>Bank Name</th>\n",
              "      <th>City</th>\n",
              "      <th>State</th>\n",
              "      <th>Cert</th>\n",
              "      <th>Aquiring Institution</th>\n",
              "      <th>Closing Date</th>\n",
              "      <th>Fund  Sort ascending</th>\n",
              "    </tr>\n",
              "  </thead>\n",
              "  <tbody>\n",
              "    <tr>\n",
              "      <th>0</th>\n",
              "      <td>Pulaski Savings Bank</td>\n",
              "      <td>Chicago</td>\n",
              "      <td>Illinois</td>\n",
              "      <td>28611</td>\n",
              "      <td>Millennium Bank</td>\n",
              "      <td>January 17, 2025</td>\n",
              "      <td>10548</td>\n",
              "    </tr>\n",
              "    <tr>\n",
              "      <th>1</th>\n",
              "      <td>The First National Bank of Lindsay</td>\n",
              "      <td>Lindsay</td>\n",
              "      <td>Oklahoma</td>\n",
              "      <td>4134</td>\n",
              "      <td>First Bank &amp; Trust Co., Duncan, OK</td>\n",
              "      <td>October 18, 2024</td>\n",
              "      <td>10547</td>\n",
              "    </tr>\n",
              "    <tr>\n",
              "      <th>2</th>\n",
              "      <td>Republic First Bank dba Republic Bank</td>\n",
              "      <td>Philadelphia</td>\n",
              "      <td>Pennsylvania</td>\n",
              "      <td>27332</td>\n",
              "      <td>Fulton Bank, National Association</td>\n",
              "      <td>April 26, 2024</td>\n",
              "      <td>10546</td>\n",
              "    </tr>\n",
              "    <tr>\n",
              "      <th>3</th>\n",
              "      <td>Citizens Bank</td>\n",
              "      <td>Sac City</td>\n",
              "      <td>Iowa</td>\n",
              "      <td>8758</td>\n",
              "      <td>Iowa Trust &amp; Savings Bank</td>\n",
              "      <td>November 3, 2023</td>\n",
              "      <td>10545</td>\n",
              "    </tr>\n",
              "    <tr>\n",
              "      <th>4</th>\n",
              "      <td>Heartland Tri-State Bank</td>\n",
              "      <td>Elkhart</td>\n",
              "      <td>Kansas</td>\n",
              "      <td>25851</td>\n",
              "      <td>Dream First Bank, N.A.</td>\n",
              "      <td>July 28, 2023</td>\n",
              "      <td>10544</td>\n",
              "    </tr>\n",
              "    <tr>\n",
              "      <th>5</th>\n",
              "      <td>First Republic Bank</td>\n",
              "      <td>San Francisco</td>\n",
              "      <td>California</td>\n",
              "      <td>59017</td>\n",
              "      <td>JPMorgan Chase Bank, N.A.</td>\n",
              "      <td>May 1, 2023</td>\n",
              "      <td>10543</td>\n",
              "    </tr>\n",
              "    <tr>\n",
              "      <th>6</th>\n",
              "      <td>Signature Bank</td>\n",
              "      <td>New York</td>\n",
              "      <td>New York</td>\n",
              "      <td>57053</td>\n",
              "      <td>Flagstar Bank, N.A.</td>\n",
              "      <td>March 12, 2023</td>\n",
              "      <td>10540</td>\n",
              "    </tr>\n",
              "    <tr>\n",
              "      <th>7</th>\n",
              "      <td>Silicon Valley Bank</td>\n",
              "      <td>Santa Clara</td>\n",
              "      <td>California</td>\n",
              "      <td>24735</td>\n",
              "      <td>First Citizens Bank &amp; Trust Company</td>\n",
              "      <td>March 10, 2023</td>\n",
              "      <td>10539</td>\n",
              "    </tr>\n",
              "    <tr>\n",
              "      <th>8</th>\n",
              "      <td>Almena State Bank</td>\n",
              "      <td>Almena</td>\n",
              "      <td>Kansas</td>\n",
              "      <td>15426</td>\n",
              "      <td>Equity Bank</td>\n",
              "      <td>October 23, 2020</td>\n",
              "      <td>10538</td>\n",
              "    </tr>\n",
              "    <tr>\n",
              "      <th>9</th>\n",
              "      <td>First City Bank of Florida</td>\n",
              "      <td>Fort Walton Beach</td>\n",
              "      <td>Florida</td>\n",
              "      <td>16748</td>\n",
              "      <td>United Fidelity Bank, fsb</td>\n",
              "      <td>October 16, 2020</td>\n",
              "      <td>10537</td>\n",
              "    </tr>\n",
              "  </tbody>\n",
              "</table>\n",
              "</div>\n",
              "    <div class=\"colab-df-buttons\">\n",
              "\n",
              "  <div class=\"colab-df-container\">\n",
              "    <button class=\"colab-df-convert\" onclick=\"convertToInteractive('df-97d1274b-f328-4b78-bf71-b5599db60be5')\"\n",
              "            title=\"Convert this dataframe to an interactive table.\"\n",
              "            style=\"display:none;\">\n",
              "\n",
              "  <svg xmlns=\"http://www.w3.org/2000/svg\" height=\"24px\" viewBox=\"0 -960 960 960\">\n",
              "    <path d=\"M120-120v-720h720v720H120Zm60-500h600v-160H180v160Zm220 220h160v-160H400v160Zm0 220h160v-160H400v160ZM180-400h160v-160H180v160Zm440 0h160v-160H620v160ZM180-180h160v-160H180v160Zm440 0h160v-160H620v160Z\"/>\n",
              "  </svg>\n",
              "    </button>\n",
              "\n",
              "  <style>\n",
              "    .colab-df-container {\n",
              "      display:flex;\n",
              "      gap: 12px;\n",
              "    }\n",
              "\n",
              "    .colab-df-convert {\n",
              "      background-color: #E8F0FE;\n",
              "      border: none;\n",
              "      border-radius: 50%;\n",
              "      cursor: pointer;\n",
              "      display: none;\n",
              "      fill: #1967D2;\n",
              "      height: 32px;\n",
              "      padding: 0 0 0 0;\n",
              "      width: 32px;\n",
              "    }\n",
              "\n",
              "    .colab-df-convert:hover {\n",
              "      background-color: #E2EBFA;\n",
              "      box-shadow: 0px 1px 2px rgba(60, 64, 67, 0.3), 0px 1px 3px 1px rgba(60, 64, 67, 0.15);\n",
              "      fill: #174EA6;\n",
              "    }\n",
              "\n",
              "    .colab-df-buttons div {\n",
              "      margin-bottom: 4px;\n",
              "    }\n",
              "\n",
              "    [theme=dark] .colab-df-convert {\n",
              "      background-color: #3B4455;\n",
              "      fill: #D2E3FC;\n",
              "    }\n",
              "\n",
              "    [theme=dark] .colab-df-convert:hover {\n",
              "      background-color: #434B5C;\n",
              "      box-shadow: 0px 1px 3px 1px rgba(0, 0, 0, 0.15);\n",
              "      filter: drop-shadow(0px 1px 2px rgba(0, 0, 0, 0.3));\n",
              "      fill: #FFFFFF;\n",
              "    }\n",
              "  </style>\n",
              "\n",
              "    <script>\n",
              "      const buttonEl =\n",
              "        document.querySelector('#df-97d1274b-f328-4b78-bf71-b5599db60be5 button.colab-df-convert');\n",
              "      buttonEl.style.display =\n",
              "        google.colab.kernel.accessAllowed ? 'block' : 'none';\n",
              "\n",
              "      async function convertToInteractive(key) {\n",
              "        const element = document.querySelector('#df-97d1274b-f328-4b78-bf71-b5599db60be5');\n",
              "        const dataTable =\n",
              "          await google.colab.kernel.invokeFunction('convertToInteractive',\n",
              "                                                    [key], {});\n",
              "        if (!dataTable) return;\n",
              "\n",
              "        const docLinkHtml = 'Like what you see? Visit the ' +\n",
              "          '<a target=\"_blank\" href=https://colab.research.google.com/notebooks/data_table.ipynb>data table notebook</a>'\n",
              "          + ' to learn more about interactive tables.';\n",
              "        element.innerHTML = '';\n",
              "        dataTable['output_type'] = 'display_data';\n",
              "        await google.colab.output.renderOutput(dataTable, element);\n",
              "        const docLink = document.createElement('div');\n",
              "        docLink.innerHTML = docLinkHtml;\n",
              "        element.appendChild(docLink);\n",
              "      }\n",
              "    </script>\n",
              "  </div>\n",
              "\n",
              "\n",
              "<div id=\"df-e526a6f4-b7e1-442a-b788-6e45a62274b6\">\n",
              "  <button class=\"colab-df-quickchart\" onclick=\"quickchart('df-e526a6f4-b7e1-442a-b788-6e45a62274b6')\"\n",
              "            title=\"Suggest charts\"\n",
              "            style=\"display:none;\">\n",
              "\n",
              "<svg xmlns=\"http://www.w3.org/2000/svg\" height=\"24px\"viewBox=\"0 0 24 24\"\n",
              "     width=\"24px\">\n",
              "    <g>\n",
              "        <path d=\"M19 3H5c-1.1 0-2 .9-2 2v14c0 1.1.9 2 2 2h14c1.1 0 2-.9 2-2V5c0-1.1-.9-2-2-2zM9 17H7v-7h2v7zm4 0h-2V7h2v10zm4 0h-2v-4h2v4z\"/>\n",
              "    </g>\n",
              "</svg>\n",
              "  </button>\n",
              "\n",
              "<style>\n",
              "  .colab-df-quickchart {\n",
              "      --bg-color: #E8F0FE;\n",
              "      --fill-color: #1967D2;\n",
              "      --hover-bg-color: #E2EBFA;\n",
              "      --hover-fill-color: #174EA6;\n",
              "      --disabled-fill-color: #AAA;\n",
              "      --disabled-bg-color: #DDD;\n",
              "  }\n",
              "\n",
              "  [theme=dark] .colab-df-quickchart {\n",
              "      --bg-color: #3B4455;\n",
              "      --fill-color: #D2E3FC;\n",
              "      --hover-bg-color: #434B5C;\n",
              "      --hover-fill-color: #FFFFFF;\n",
              "      --disabled-bg-color: #3B4455;\n",
              "      --disabled-fill-color: #666;\n",
              "  }\n",
              "\n",
              "  .colab-df-quickchart {\n",
              "    background-color: var(--bg-color);\n",
              "    border: none;\n",
              "    border-radius: 50%;\n",
              "    cursor: pointer;\n",
              "    display: none;\n",
              "    fill: var(--fill-color);\n",
              "    height: 32px;\n",
              "    padding: 0;\n",
              "    width: 32px;\n",
              "  }\n",
              "\n",
              "  .colab-df-quickchart:hover {\n",
              "    background-color: var(--hover-bg-color);\n",
              "    box-shadow: 0 1px 2px rgba(60, 64, 67, 0.3), 0 1px 3px 1px rgba(60, 64, 67, 0.15);\n",
              "    fill: var(--button-hover-fill-color);\n",
              "  }\n",
              "\n",
              "  .colab-df-quickchart-complete:disabled,\n",
              "  .colab-df-quickchart-complete:disabled:hover {\n",
              "    background-color: var(--disabled-bg-color);\n",
              "    fill: var(--disabled-fill-color);\n",
              "    box-shadow: none;\n",
              "  }\n",
              "\n",
              "  .colab-df-spinner {\n",
              "    border: 2px solid var(--fill-color);\n",
              "    border-color: transparent;\n",
              "    border-bottom-color: var(--fill-color);\n",
              "    animation:\n",
              "      spin 1s steps(1) infinite;\n",
              "  }\n",
              "\n",
              "  @keyframes spin {\n",
              "    0% {\n",
              "      border-color: transparent;\n",
              "      border-bottom-color: var(--fill-color);\n",
              "      border-left-color: var(--fill-color);\n",
              "    }\n",
              "    20% {\n",
              "      border-color: transparent;\n",
              "      border-left-color: var(--fill-color);\n",
              "      border-top-color: var(--fill-color);\n",
              "    }\n",
              "    30% {\n",
              "      border-color: transparent;\n",
              "      border-left-color: var(--fill-color);\n",
              "      border-top-color: var(--fill-color);\n",
              "      border-right-color: var(--fill-color);\n",
              "    }\n",
              "    40% {\n",
              "      border-color: transparent;\n",
              "      border-right-color: var(--fill-color);\n",
              "      border-top-color: var(--fill-color);\n",
              "    }\n",
              "    60% {\n",
              "      border-color: transparent;\n",
              "      border-right-color: var(--fill-color);\n",
              "    }\n",
              "    80% {\n",
              "      border-color: transparent;\n",
              "      border-right-color: var(--fill-color);\n",
              "      border-bottom-color: var(--fill-color);\n",
              "    }\n",
              "    90% {\n",
              "      border-color: transparent;\n",
              "      border-bottom-color: var(--fill-color);\n",
              "    }\n",
              "  }\n",
              "</style>\n",
              "\n",
              "  <script>\n",
              "    async function quickchart(key) {\n",
              "      const quickchartButtonEl =\n",
              "        document.querySelector('#' + key + ' button');\n",
              "      quickchartButtonEl.disabled = true;  // To prevent multiple clicks.\n",
              "      quickchartButtonEl.classList.add('colab-df-spinner');\n",
              "      try {\n",
              "        const charts = await google.colab.kernel.invokeFunction(\n",
              "            'suggestCharts', [key], {});\n",
              "      } catch (error) {\n",
              "        console.error('Error during call to suggestCharts:', error);\n",
              "      }\n",
              "      quickchartButtonEl.classList.remove('colab-df-spinner');\n",
              "      quickchartButtonEl.classList.add('colab-df-quickchart-complete');\n",
              "    }\n",
              "    (() => {\n",
              "      let quickchartButtonEl =\n",
              "        document.querySelector('#df-e526a6f4-b7e1-442a-b788-6e45a62274b6 button');\n",
              "      quickchartButtonEl.style.display =\n",
              "        google.colab.kernel.accessAllowed ? 'block' : 'none';\n",
              "    })();\n",
              "  </script>\n",
              "</div>\n",
              "\n",
              "    </div>\n",
              "  </div>\n"
            ],
            "application/vnd.google.colaboratory.intrinsic+json": {
              "type": "dataframe",
              "summary": "{\n  \"name\": \"df[0]\",\n  \"rows\": 10,\n  \"fields\": [\n    {\n      \"column\": \"Bank Name\",\n      \"properties\": {\n        \"dtype\": \"string\",\n        \"num_unique_values\": 10,\n        \"samples\": [\n          \"Almena State Bank\",\n          \"The First National Bank of Lindsay\",\n          \"First Republic Bank\"\n        ],\n        \"semantic_type\": \"\",\n        \"description\": \"\"\n      }\n    },\n    {\n      \"column\": \"City\",\n      \"properties\": {\n        \"dtype\": \"string\",\n        \"num_unique_values\": 10,\n        \"samples\": [\n          \"Almena\",\n          \"Lindsay\",\n          \"San Francisco\"\n        ],\n        \"semantic_type\": \"\",\n        \"description\": \"\"\n      }\n    },\n    {\n      \"column\": \"State\",\n      \"properties\": {\n        \"dtype\": \"string\",\n        \"num_unique_values\": 8,\n        \"samples\": [\n          \"Oklahoma\",\n          \"California\",\n          \"Illinois\"\n        ],\n        \"semantic_type\": \"\",\n        \"description\": \"\"\n      }\n    },\n    {\n      \"column\": \"Cert\",\n      \"properties\": {\n        \"dtype\": \"number\",\n        \"std\": 18353,\n        \"min\": 4134,\n        \"max\": 59017,\n        \"num_unique_values\": 10,\n        \"samples\": [\n          15426,\n          4134,\n          59017\n        ],\n        \"semantic_type\": \"\",\n        \"description\": \"\"\n      }\n    },\n    {\n      \"column\": \"Aquiring Institution\",\n      \"properties\": {\n        \"dtype\": \"string\",\n        \"num_unique_values\": 10,\n        \"samples\": [\n          \"Equity Bank\",\n          \"First Bank & Trust Co., Duncan, OK\",\n          \"JPMorgan Chase Bank, N.A.\"\n        ],\n        \"semantic_type\": \"\",\n        \"description\": \"\"\n      }\n    },\n    {\n      \"column\": \"Closing Date\",\n      \"properties\": {\n        \"dtype\": \"object\",\n        \"num_unique_values\": 10,\n        \"samples\": [\n          \"October 23, 2020\",\n          \"October 18, 2024\",\n          \"May 1, 2023\"\n        ],\n        \"semantic_type\": \"\",\n        \"description\": \"\"\n      }\n    },\n    {\n      \"column\": \"Fund  Sort ascending\",\n      \"properties\": {\n        \"dtype\": \"number\",\n        \"std\": 3,\n        \"min\": 10537,\n        \"max\": 10548,\n        \"num_unique_values\": 10,\n        \"samples\": [\n          10538,\n          10547,\n          10543\n        ],\n        \"semantic_type\": \"\",\n        \"description\": \"\"\n      }\n    }\n  ]\n}"
            }
          },
          "metadata": {},
          "execution_count": 49
        }
      ],
      "source": [
        "df[0]"
      ]
    },
    {
      "cell_type": "code",
      "execution_count": 50,
      "metadata": {
        "id": "d6fhxyjVjnUP"
      },
      "outputs": [],
      "source": [
        "df = pd.DataFrame({'name':['Sam','Charlie','Amy','Sally','Carl','Sarah'],\n",
        "               'physics':[70, 60, 65, 90, 80, 95],\n",
        "               'chemistry':[85, 80, 90, 85, 80, 100],\n",
        "               'algebra':[80, 90, 85, 90, 60, 85]})\n"
      ]
    },
    {
      "cell_type": "code",
      "execution_count": 51,
      "metadata": {
        "id": "Z2mmkc0zjnUP"
      },
      "outputs": [],
      "source": [
        "html = df.to_html()\n",
        "\n",
        "textFile = open('index.html', 'w')\n",
        "textFile.write(html)\n",
        "textFile.close()"
      ]
    }
  ],
  "metadata": {
    "kernelspec": {
      "display_name": "Python 3 (ipykernel)",
      "language": "python",
      "name": "python3"
    },
    "language_info": {
      "codemirror_mode": {
        "name": "ipython",
        "version": 3
      },
      "file_extension": ".py",
      "mimetype": "text/x-python",
      "name": "python",
      "nbconvert_exporter": "python",
      "pygments_lexer": "ipython3",
      "version": "3.7.12"
    },
    "latex_envs": {
      "LaTeX_envs_menu_present": true,
      "autoclose": false,
      "autocomplete": true,
      "bibliofile": "biblio.bib",
      "cite_by": "apalike",
      "current_citInitial": 1,
      "eqLabelWithNumbers": true,
      "eqNumInitial": 1,
      "hotkeys": {
        "equation": "Ctrl-E",
        "itemize": "Ctrl-I"
      },
      "labels_anchors": false,
      "latex_user_defs": false,
      "report_style_numbering": false,
      "user_envs_cfg": false
    },
    "colab": {
      "provenance": []
    }
  },
  "nbformat": 4,
  "nbformat_minor": 0
}