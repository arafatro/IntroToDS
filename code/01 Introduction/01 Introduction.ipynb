{
  "cells": [
    {
      "cell_type": "markdown",
      "metadata": {
        "id": "FFKttOyw_lb1"
      },
      "source": [
        "# Python Basics Lab Lecture\n",
        "\n",
        "Welcome to this lab lecture where we will review basic Python concepts including comments, variables, printing, data types, strings, lists, dictionaries, sets, operators, conditional statements, and loops. Follow along with each cell to see examples and explanations.\n"
      ]
    },
    {
      "cell_type": "markdown",
      "metadata": {
        "id": "43bQBix7_lb3"
      },
      "source": [
        "## Comments"
      ]
    },
    {
      "cell_type": "markdown",
      "metadata": {
        "id": "FLE2-JmW_lb3"
      },
      "source": [
        "To write something"
      ]
    },
    {
      "cell_type": "code",
      "execution_count": 1,
      "metadata": {
        "colab": {
          "base_uri": "https://localhost:8080/"
        },
        "id": "sIExMlst_lb3",
        "outputId": "abadd9bf-b43c-42d4-8363-9db3da51d3cf"
      },
      "outputs": [
        {
          "output_type": "stream",
          "name": "stdout",
          "text": [
            "Hello World!\n"
          ]
        }
      ],
      "source": [
        "#my comments\n",
        "print(\"Hello World!\")"
      ]
    },
    {
      "cell_type": "code",
      "execution_count": null,
      "metadata": {
        "id": "S8vGFW5w_lb4",
        "outputId": "3dddeb3e-fc0a-49e0-b883-0597dbd2cecf"
      },
      "outputs": [
        {
          "name": "stdout",
          "output_type": "stream",
          "text": [
            "Hello World!\n"
          ]
        }
      ],
      "source": [
        "print(\"Hello World!\") #Some comment"
      ]
    },
    {
      "cell_type": "code",
      "execution_count": null,
      "metadata": {
        "id": "_0yo4WP2_lb5",
        "outputId": "a8ea0b86-b258-4295-88f7-d130148b0f45"
      },
      "outputs": [
        {
          "data": {
            "text/plain": [
              "'\\nMultiple lines comments.\\n'"
            ]
          },
          "execution_count": 3,
          "metadata": {},
          "output_type": "execute_result"
        }
      ],
      "source": [
        "\"\"\"\n",
        "Multiple lines comments.\n",
        "\"\"\"\n",
        "\n",
        "# crtl + /\n",
        "# cmd + /\n",
        "\n",
        "# I\n",
        "# want\n",
        "# to\n",
        "# comment"
      ]
    },
    {
      "cell_type": "markdown",
      "metadata": {
        "id": "NJWbKuOn_lb5"
      },
      "source": [
        "## Variables"
      ]
    },
    {
      "cell_type": "code",
      "execution_count": null,
      "metadata": {
        "id": "aK0-YnqE_lb5",
        "outputId": "5f2e05e8-ab58-4e5d-a47e-fa6e18b57074"
      },
      "outputs": [
        {
          "name": "stdout",
          "output_type": "stream",
          "text": [
            "5 string\n"
          ]
        }
      ],
      "source": [
        "x = 5\n",
        "y = \"string\"\n",
        "\n",
        "print(x, y)"
      ]
    },
    {
      "cell_type": "code",
      "execution_count": null,
      "metadata": {
        "id": "npL7yeWm_lb6",
        "outputId": "c24c39df-7490-4706-af4e-f93b8f1fad86"
      },
      "outputs": [
        {
          "name": "stdout",
          "output_type": "stream",
          "text": [
            "another string\n"
          ]
        }
      ],
      "source": [
        "x = 10\n",
        "x = \"another\"\n",
        "\n",
        "print(x, y)"
      ]
    },
    {
      "cell_type": "markdown",
      "metadata": {
        "id": "A8AhWwYe_lb6"
      },
      "source": [
        "### Rules for Variables"
      ]
    },
    {
      "cell_type": "code",
      "execution_count": null,
      "metadata": {
        "id": "t4qyX0sO_lb6",
        "outputId": "475db32c-1537-4e8e-8949-8501f078b818"
      },
      "outputs": [
        {
          "data": {
            "text/plain": [
              "1"
            ]
          },
          "execution_count": 6,
          "metadata": {},
          "output_type": "execute_result"
        }
      ],
      "source": [
        "myVar = 1\n",
        "my_var = 1\n",
        "myvar2 = 1\n",
        "_myvar = 1\n",
        "MyVar = 1\n",
        "\n",
        "MyVar"
      ]
    },
    {
      "cell_type": "code",
      "execution_count": null,
      "metadata": {
        "id": "GfsvI6uM_lb7",
        "outputId": "2e6ef03b-b8b9-462b-f730-370d7dfcc8d6"
      },
      "outputs": [
        {
          "ename": "SyntaxError",
          "evalue": "invalid decimal literal (4079902239.py, line 1)",
          "output_type": "error",
          "traceback": [
            "\u001b[0;36m  Cell \u001b[0;32mIn[7], line 1\u001b[0;36m\u001b[0m\n\u001b[0;31m    2myvar = 1\u001b[0m\n\u001b[0m    ^\u001b[0m\n\u001b[0;31mSyntaxError\u001b[0m\u001b[0;31m:\u001b[0m invalid decimal literal\n"
          ]
        }
      ],
      "source": [
        "2myvar = 1"
      ]
    },
    {
      "cell_type": "code",
      "execution_count": null,
      "metadata": {
        "id": "N7x4aVsK_lb7",
        "outputId": "6ef24fc2-91f2-4cb2-8273-5f07f66be4d7"
      },
      "outputs": [
        {
          "name": "stdout",
          "output_type": "stream",
          "text": [
            "100 type True\n"
          ]
        }
      ],
      "source": [
        "x, y, z = 100, \"type\", True\n",
        "\n",
        "print(x, y, z)"
      ]
    },
    {
      "cell_type": "code",
      "execution_count": null,
      "metadata": {
        "id": "rLwZvI_i_lb7",
        "outputId": "d3d2188f-2038-4df9-ef21-bd74739cce49"
      },
      "outputs": [
        {
          "name": "stdout",
          "output_type": "stream",
          "text": [
            "Value of x is  5\n",
            "Value of x is  1\n"
          ]
        }
      ],
      "source": [
        "x = 5\n",
        "\n",
        "def myfunc():\n",
        "    global x\n",
        "    print(\"Value of x is \", x)\n",
        "    x = 1\n",
        "\n",
        "myfunc()\n",
        "myfunc()"
      ]
    },
    {
      "cell_type": "markdown",
      "metadata": {
        "id": "TWL1CdTy_lb7"
      },
      "source": [
        "## Printing"
      ]
    },
    {
      "cell_type": "code",
      "execution_count": null,
      "metadata": {
        "id": "K0I-MryK_lb7",
        "outputId": "f46b324c-0ca4-4fd5-df7d-a00803714cef"
      },
      "outputs": [
        {
          "data": {
            "text/plain": [
              "'something'"
            ]
          },
          "execution_count": 10,
          "metadata": {},
          "output_type": "execute_result"
        }
      ],
      "source": [
        "myVar = \"something\"\n",
        "\n",
        "myVar"
      ]
    },
    {
      "cell_type": "code",
      "execution_count": null,
      "metadata": {
        "id": "wyOUFSKc_lb7",
        "outputId": "38a26e7b-512a-4098-b934-f9e9184dd057"
      },
      "outputs": [
        {
          "name": "stdout",
          "output_type": "stream",
          "text": [
            "something\n"
          ]
        }
      ],
      "source": [
        "print(myVar)"
      ]
    },
    {
      "cell_type": "code",
      "execution_count": null,
      "metadata": {
        "id": "XzgIaqlG_lb7",
        "outputId": "5fd81e4c-aa5c-494b-8144-51838c4a2fbf"
      },
      "outputs": [
        {
          "name": "stdout",
          "output_type": "stream",
          "text": [
            "My name is Jose and I am 35 years old.\n",
            "My name is Jose and I am 35 years old.\n"
          ]
        }
      ],
      "source": [
        "name = \"Jose\"\n",
        "age = 35\n",
        "\n",
        "print(\"My name is {var1} and I am {var2} years old.\".format(var1=name, var2=age))\n",
        "print(\"My name is {} and I am {} years old.\".format(name, age))"
      ]
    },
    {
      "cell_type": "markdown",
      "metadata": {
        "id": "ENvsHNqf_lb7"
      },
      "source": [
        "## Data Types"
      ]
    },
    {
      "cell_type": "code",
      "execution_count": null,
      "metadata": {
        "id": "6MKR-IjM_lb8",
        "outputId": "119197d7-d312-4b91-b4af-f08fd6e4bf57"
      },
      "outputs": [
        {
          "data": {
            "text/plain": [
              "float"
            ]
          },
          "execution_count": 13,
          "metadata": {},
          "output_type": "execute_result"
        }
      ],
      "source": [
        "z = 2/3\n",
        "type(z)"
      ]
    },
    {
      "cell_type": "code",
      "execution_count": null,
      "metadata": {
        "id": "f5pU5zcy_lb8",
        "outputId": "207fd6a3-f81c-4348-9a09-6b56be9ccd8e"
      },
      "outputs": [
        {
          "data": {
            "text/plain": [
              "bool"
            ]
          },
          "execution_count": 14,
          "metadata": {},
          "output_type": "execute_result"
        }
      ],
      "source": [
        "x = False\n",
        "type(x)"
      ]
    },
    {
      "cell_type": "code",
      "execution_count": null,
      "metadata": {
        "id": "TNwpbWkY_lb8",
        "outputId": "12cdc1ea-8c4f-4ccf-9660-55ddf780262a"
      },
      "outputs": [
        {
          "data": {
            "text/plain": [
              "False"
            ]
          },
          "execution_count": 15,
          "metadata": {},
          "output_type": "execute_result"
        }
      ],
      "source": [
        "type(x)==type(z)"
      ]
    },
    {
      "cell_type": "code",
      "execution_count": null,
      "metadata": {
        "id": "hsgEN_AM_lb8",
        "outputId": "2acd7f71-c9ab-4a48-ac54-ccc0d8be2b27"
      },
      "outputs": [
        {
          "name": "stdout",
          "output_type": "stream",
          "text": [
            "0 <class 'int'>\n"
          ]
        }
      ],
      "source": [
        "x = int(z)\n",
        "\n",
        "print(x, type(x))"
      ]
    },
    {
      "cell_type": "markdown",
      "metadata": {
        "id": "kp6yRefU_lb8"
      },
      "source": [
        "## Strings"
      ]
    },
    {
      "cell_type": "code",
      "execution_count": null,
      "metadata": {
        "id": "4gB8NT97_lb8",
        "outputId": "ddd02c7e-d858-47d8-8aaf-2db8e2468763"
      },
      "outputs": [
        {
          "data": {
            "text/plain": [
              "'single'"
            ]
          },
          "execution_count": 17,
          "metadata": {},
          "output_type": "execute_result"
        }
      ],
      "source": [
        "'single'"
      ]
    },
    {
      "cell_type": "code",
      "execution_count": null,
      "metadata": {
        "id": "8Op4Zct2_lb8",
        "outputId": "5ac76ce8-ca79-4cb4-f0a9-d4d6ebf96730"
      },
      "outputs": [
        {
          "data": {
            "text/plain": [
              "'double'"
            ]
          },
          "execution_count": 18,
          "metadata": {},
          "output_type": "execute_result"
        }
      ],
      "source": [
        "\"double\""
      ]
    },
    {
      "cell_type": "code",
      "execution_count": null,
      "metadata": {
        "id": "7Kxg5qKO_lb8",
        "outputId": "f567ffde-a1a5-41d5-cef3-db7c38a0c803"
      },
      "outputs": [
        {
          "name": "stdout",
          "output_type": "stream",
          "text": [
            "My name is Jose\n",
            "My name is  35\n"
          ]
        }
      ],
      "source": [
        "phrase = \"My name is \"\n",
        "\n",
        "print(phrase+name)\n",
        "print(phrase, age)"
      ]
    },
    {
      "cell_type": "code",
      "execution_count": null,
      "metadata": {
        "id": "ZrpiCNqr_lb8",
        "outputId": "6412229b-15ce-4de8-fbd4-7546efa3b701"
      },
      "outputs": [
        {
          "data": {
            "text/plain": [
              "\"You're students.\""
            ]
          },
          "execution_count": 20,
          "metadata": {},
          "output_type": "execute_result"
        }
      ],
      "source": [
        "words = \"You're students.\"\n",
        "words"
      ]
    },
    {
      "cell_type": "markdown",
      "metadata": {
        "id": "YzK-hZ27_lb8"
      },
      "source": [
        "## Lists"
      ]
    },
    {
      "cell_type": "code",
      "execution_count": null,
      "metadata": {
        "id": "NZufiZlH_lb9",
        "outputId": "7733229a-7a04-4b96-a349-dfc4d757559c"
      },
      "outputs": [
        {
          "data": {
            "text/plain": [
              "['a', 'b', 'c', 'd']"
            ]
          },
          "execution_count": 21,
          "metadata": {},
          "output_type": "execute_result"
        }
      ],
      "source": [
        "['a','b','c','d']"
      ]
    },
    {
      "cell_type": "code",
      "execution_count": null,
      "metadata": {
        "id": "kxyNdt1F_lb9",
        "outputId": "8b9e93c3-d1e5-401f-8f6d-0cba220f2bf3"
      },
      "outputs": [
        {
          "data": {
            "text/plain": [
              "[10, 6.5, 'z', ['You', 'Me'], False]"
            ]
          },
          "execution_count": 22,
          "metadata": {},
          "output_type": "execute_result"
        }
      ],
      "source": [
        "myList = [10, 6.5, 'z', [\"You\", \"Me\"], False]\n",
        "myList"
      ]
    },
    {
      "cell_type": "code",
      "execution_count": null,
      "metadata": {
        "id": "kpruZSbV_lb9",
        "outputId": "07eb0a2d-bf77-47a5-c3db-185f0742ea0e"
      },
      "outputs": [
        {
          "data": {
            "text/plain": [
              "False"
            ]
          },
          "execution_count": 23,
          "metadata": {},
          "output_type": "execute_result"
        }
      ],
      "source": [
        "myList[-1]"
      ]
    },
    {
      "cell_type": "code",
      "execution_count": null,
      "metadata": {
        "id": "j17fu04e_lb9",
        "outputId": "36c5af87-4a94-45b5-b273-be64ffe6010f"
      },
      "outputs": [
        {
          "data": {
            "text/plain": [
              "[6.5, 'z', ['You', 'Me']]"
            ]
          },
          "execution_count": 24,
          "metadata": {},
          "output_type": "execute_result"
        }
      ],
      "source": [
        "myList[1:4]"
      ]
    },
    {
      "cell_type": "code",
      "execution_count": null,
      "metadata": {
        "id": "CZY_ULIx_lb9",
        "outputId": "1f9c9f41-fed1-47c7-9a54-09bca6f5c238"
      },
      "outputs": [
        {
          "data": {
            "text/plain": [
              "[10, 6.5, 'z', ['You', 'Me'], False, True]"
            ]
          },
          "execution_count": 25,
          "metadata": {},
          "output_type": "execute_result"
        }
      ],
      "source": [
        "b = True\n",
        "myList.append(b)\n",
        "myList"
      ]
    },
    {
      "cell_type": "code",
      "execution_count": null,
      "metadata": {
        "id": "tLZZ7Kl4_lb9",
        "outputId": "6eb91ed8-e848-4184-e8e0-29ed111f0c69"
      },
      "outputs": [
        {
          "data": {
            "text/plain": [
              "[10, 6.5, 'z']"
            ]
          },
          "execution_count": 26,
          "metadata": {},
          "output_type": "execute_result"
        }
      ],
      "source": [
        "myList = myList[0:3]\n",
        "myList"
      ]
    },
    {
      "cell_type": "code",
      "execution_count": null,
      "metadata": {
        "id": "GgKGBVqe_lb9",
        "outputId": "17ac0c92-bc88-4bc1-dc8c-3f0935a832f7"
      },
      "outputs": [
        {
          "data": {
            "text/plain": [
              "[10]"
            ]
          },
          "execution_count": 27,
          "metadata": {},
          "output_type": "execute_result"
        }
      ],
      "source": [
        "myList[:1]"
      ]
    },
    {
      "cell_type": "code",
      "execution_count": null,
      "metadata": {
        "id": "DMrgPzQI_lb-",
        "outputId": "8d079f02-b816-4e3a-85d9-7ee402b5ed76"
      },
      "outputs": [
        {
          "data": {
            "text/plain": [
              "3"
            ]
          },
          "execution_count": 28,
          "metadata": {},
          "output_type": "execute_result"
        }
      ],
      "source": [
        "#Length\n",
        "len(myList)"
      ]
    },
    {
      "cell_type": "code",
      "execution_count": null,
      "metadata": {
        "id": "YPK5mjNv_lb-",
        "outputId": "ee8dddef-aa76-4d3d-f604-0166e1a55d8a"
      },
      "outputs": [
        {
          "data": {
            "text/plain": [
              "[10, 'y', 6.5, 'z']"
            ]
          },
          "execution_count": 29,
          "metadata": {},
          "output_type": "execute_result"
        }
      ],
      "source": [
        "myList.insert(1, 'y')\n",
        "myList"
      ]
    },
    {
      "cell_type": "code",
      "execution_count": null,
      "metadata": {
        "id": "bLf8_QvC_lb-",
        "outputId": "cc312c38-e40c-4399-a5c7-2530e8f8b870"
      },
      "outputs": [
        {
          "ename": "ValueError",
          "evalue": "list.remove(x): x not in list",
          "output_type": "error",
          "traceback": [
            "\u001b[0;31m---------------------------------------------------------------------------\u001b[0m",
            "\u001b[0;31mValueError\u001b[0m                                Traceback (most recent call last)",
            "Cell \u001b[0;32mIn[30], line 1\u001b[0m\n\u001b[0;32m----> 1\u001b[0m myList\u001b[38;5;241m.\u001b[39mremove([\u001b[38;5;124m'\u001b[39m\u001b[38;5;124mYou\u001b[39m\u001b[38;5;124m'\u001b[39m, \u001b[38;5;124m'\u001b[39m\u001b[38;5;124mMe\u001b[39m\u001b[38;5;124m'\u001b[39m])\n\u001b[1;32m      2\u001b[0m myList\n",
            "\u001b[0;31mValueError\u001b[0m: list.remove(x): x not in list"
          ]
        }
      ],
      "source": [
        "myList.remove(['You', 'Me'])\n",
        "myList"
      ]
    },
    {
      "cell_type": "code",
      "execution_count": null,
      "metadata": {
        "id": "-4QChI3C_lb-"
      },
      "outputs": [],
      "source": [
        "myList.pop(-1)\n",
        "myList"
      ]
    },
    {
      "cell_type": "code",
      "execution_count": null,
      "metadata": {
        "id": "-0gYVKvU_lb_",
        "outputId": "09310c8c-d758-49ce-a164-bd0193e4339b"
      },
      "outputs": [
        {
          "data": {
            "text/plain": [
              "['y', 6.5, 'z']"
            ]
          },
          "execution_count": 31,
          "metadata": {},
          "output_type": "execute_result"
        }
      ],
      "source": [
        "del myList[0]\n",
        "myList"
      ]
    },
    {
      "cell_type": "code",
      "execution_count": null,
      "metadata": {
        "id": "-cozVrox_lb_",
        "outputId": "b724eb82-6412-4bc6-ebb4-922e1cb850cc"
      },
      "outputs": [
        {
          "data": {
            "text/plain": [
              "['y', 6.5, 'z', 1, 2, 3]"
            ]
          },
          "execution_count": 32,
          "metadata": {},
          "output_type": "execute_result"
        }
      ],
      "source": [
        "mySecList = [1,2,3]\n",
        "list3 = myList + mySecList\n",
        "list3"
      ]
    },
    {
      "cell_type": "markdown",
      "metadata": {
        "id": "fMESFvl1_lb_"
      },
      "source": [
        "## Dictionaries"
      ]
    },
    {
      "cell_type": "code",
      "execution_count": null,
      "metadata": {
        "id": "5os4UXyd_lb_",
        "outputId": "5fe8cad1-045d-48d8-e486-788e1737cf7b"
      },
      "outputs": [
        {
          "data": {
            "text/plain": [
              "{1: {'name': 'Jose', 'age': 35, 'height': 187, 'year': 2019},\n",
              " 2: {'name': 'Ana', 'age': 37, 'height': 167, 'year': 2017}}"
            ]
          },
          "execution_count": 33,
          "metadata": {},
          "output_type": "execute_result"
        }
      ],
      "source": [
        "ids = {\n",
        "    1:{ #Index\n",
        "        \"name\":\"Jose\", #key : #item\n",
        "        \"age\":35,\n",
        "        \"height\":187,\n",
        "        \"year\":2019\n",
        "    },\n",
        "    2:{\n",
        "        \"name\":\"Ana\",\n",
        "        \"age\":37,\n",
        "        \"height\":167,\n",
        "        \"year\":2017\n",
        "    }\n",
        "}\n",
        "\n",
        "ids"
      ]
    },
    {
      "cell_type": "code",
      "execution_count": null,
      "metadata": {
        "id": "w0lpiX6V_lb_",
        "outputId": "a59e6c9f-5b64-442f-be67-778d69706ccc"
      },
      "outputs": [
        {
          "name": "stdout",
          "output_type": "stream",
          "text": [
            "{'name': 'Jose', 'age': 35, 'height': 187, 'year': 2019}\n",
            "{'name': 'Ana', 'age': 37, 'height': 167, 'year': 2017}\n"
          ]
        }
      ],
      "source": [
        "myName = ids[1]\n",
        "othrName = ids.get(2)\n",
        "\n",
        "print(myName)\n",
        "print(othrName)"
      ]
    },
    {
      "cell_type": "code",
      "execution_count": null,
      "metadata": {
        "id": "A0dpo2F0_lb_",
        "outputId": "23e79af4-cf37-4a3c-8b6b-a8bf628afedf"
      },
      "outputs": [
        {
          "data": {
            "text/plain": [
              "37"
            ]
          },
          "execution_count": 35,
          "metadata": {},
          "output_type": "execute_result"
        }
      ],
      "source": [
        "age = othrName[\"age\"]\n",
        "age"
      ]
    },
    {
      "cell_type": "code",
      "execution_count": null,
      "metadata": {
        "id": "WBjJLgQR_lb_",
        "outputId": "f083024b-bcfc-4c9b-b32e-5927a715b526"
      },
      "outputs": [
        {
          "data": {
            "text/plain": [
              "{'name': 'Ana', 'age': 37, 'height': 167, 'year': 2021}"
            ]
          },
          "execution_count": 36,
          "metadata": {},
          "output_type": "execute_result"
        }
      ],
      "source": [
        "othrName[\"year\"] = 2021\n",
        "othrName"
      ]
    },
    {
      "cell_type": "markdown",
      "metadata": {
        "id": "tE1b_vIt_lb_"
      },
      "source": [
        "## Sets"
      ]
    },
    {
      "cell_type": "code",
      "execution_count": null,
      "metadata": {
        "id": "TENobvzD_lb_",
        "outputId": "755a9093-0246-485b-9001-ecaa893b4800"
      },
      "outputs": [
        {
          "data": {
            "text/plain": [
              "{1, 2, 3, 'a', 'b', 'c'}"
            ]
          },
          "execution_count": 37,
          "metadata": {},
          "output_type": "execute_result"
        }
      ],
      "source": [
        "set1 = {\"a\", \"b\", \"c\"}\n",
        "set2 = {1, 2, 3}\n",
        "\n",
        "set3 = set1.union(set2)\n",
        "set3"
      ]
    },
    {
      "cell_type": "code",
      "execution_count": null,
      "metadata": {
        "id": "hMyY-nns_lb_"
      },
      "outputs": [],
      "source": [
        "set3.discard(3)"
      ]
    },
    {
      "cell_type": "code",
      "execution_count": null,
      "metadata": {
        "id": "PAaXi5yx_lb_"
      },
      "outputs": [],
      "source": [
        "set3.remove('a')"
      ]
    },
    {
      "cell_type": "code",
      "execution_count": null,
      "metadata": {
        "id": "ARzxYynS_lcA",
        "outputId": "b7dfc5df-0ae2-419d-b894-ec483511464a"
      },
      "outputs": [
        {
          "ename": "KeyError",
          "evalue": "'d'",
          "output_type": "error",
          "traceback": [
            "\u001b[0;31m---------------------------------------------------------------------------\u001b[0m",
            "\u001b[0;31mKeyError\u001b[0m                                  Traceback (most recent call last)",
            "Cell \u001b[0;32mIn[40], line 1\u001b[0m\n\u001b[0;32m----> 1\u001b[0m set3\u001b[38;5;241m.\u001b[39mremove(\u001b[38;5;124m'\u001b[39m\u001b[38;5;124md\u001b[39m\u001b[38;5;124m'\u001b[39m)\n",
            "\u001b[0;31mKeyError\u001b[0m: 'd'"
          ]
        }
      ],
      "source": [
        "set3.remove('d')"
      ]
    },
    {
      "cell_type": "code",
      "execution_count": null,
      "metadata": {
        "id": "VE2uYsEO_lcA"
      },
      "outputs": [],
      "source": [
        "set3.discard('d')"
      ]
    },
    {
      "cell_type": "code",
      "execution_count": null,
      "metadata": {
        "id": "MvCCHMQV_lcC",
        "outputId": "97f2c3fb-d5a5-433f-d8e0-c57bb877eb75"
      },
      "outputs": [
        {
          "data": {
            "text/plain": [
              "{1, 2, 'b', 'c'}"
            ]
          },
          "execution_count": 42,
          "metadata": {},
          "output_type": "execute_result"
        }
      ],
      "source": [
        "set3"
      ]
    },
    {
      "cell_type": "markdown",
      "metadata": {
        "id": "oUnaX1ge_lcC"
      },
      "source": [
        "## Operators"
      ]
    },
    {
      "cell_type": "code",
      "execution_count": null,
      "metadata": {
        "id": "z7SBo41m_lcC"
      },
      "outputs": [],
      "source": [
        "x = 10\n",
        "y = 20"
      ]
    },
    {
      "cell_type": "code",
      "execution_count": null,
      "metadata": {
        "id": "dJCgiAu0_lcC",
        "outputId": "c560d1ac-ef18-49a6-f7f6-88a6931505ce"
      },
      "outputs": [
        {
          "data": {
            "text/plain": [
              "False"
            ]
          },
          "execution_count": 44,
          "metadata": {},
          "output_type": "execute_result"
        }
      ],
      "source": [
        "x > y"
      ]
    },
    {
      "cell_type": "code",
      "execution_count": null,
      "metadata": {
        "id": "FnzrEwrk_lcC",
        "outputId": "f9b0dcec-0c9e-4c84-ca1a-208eec60e95d"
      },
      "outputs": [
        {
          "data": {
            "text/plain": [
              "True"
            ]
          },
          "execution_count": 45,
          "metadata": {},
          "output_type": "execute_result"
        }
      ],
      "source": [
        "x < y"
      ]
    },
    {
      "cell_type": "code",
      "execution_count": null,
      "metadata": {
        "id": "-Z2ZzfHw_lcC",
        "outputId": "27b45210-dce5-4c22-a47a-a8f49d52dc8a"
      },
      "outputs": [
        {
          "data": {
            "text/plain": [
              "False"
            ]
          },
          "execution_count": 46,
          "metadata": {},
          "output_type": "execute_result"
        }
      ],
      "source": [
        "x == y # x != y"
      ]
    },
    {
      "cell_type": "code",
      "execution_count": null,
      "metadata": {
        "id": "aB64gR0B_lcD",
        "outputId": "ad57c594-4c9b-42fc-d6af-8b92fea56fef"
      },
      "outputs": [
        {
          "data": {
            "text/plain": [
              "False"
            ]
          },
          "execution_count": 47,
          "metadata": {},
          "output_type": "execute_result"
        }
      ],
      "source": [
        "x >= y"
      ]
    },
    {
      "cell_type": "code",
      "execution_count": null,
      "metadata": {
        "id": "4M0_kUv9_lcD",
        "outputId": "00a486d2-b6eb-4077-e575-03ff238783b2"
      },
      "outputs": [
        {
          "data": {
            "text/plain": [
              "True"
            ]
          },
          "execution_count": 48,
          "metadata": {},
          "output_type": "execute_result"
        }
      ],
      "source": [
        "x <= y"
      ]
    },
    {
      "cell_type": "code",
      "execution_count": null,
      "metadata": {
        "id": "p3DF_8wm_lcD",
        "outputId": "e1214747-5434-4752-c626-fa4b89b08862"
      },
      "outputs": [
        {
          "data": {
            "text/plain": [
              "True"
            ]
          },
          "execution_count": 49,
          "metadata": {},
          "output_type": "execute_result"
        }
      ],
      "source": [
        "not(x == y)"
      ]
    },
    {
      "cell_type": "code",
      "execution_count": null,
      "metadata": {
        "id": "ZFsOwthE_lcD",
        "outputId": "ee62968c-67a7-4e7a-c502-eb42470a2d6d"
      },
      "outputs": [
        {
          "data": {
            "text/plain": [
              "True"
            ]
          },
          "execution_count": 50,
          "metadata": {},
          "output_type": "execute_result"
        }
      ],
      "source": [
        "x > 5 and x < 20 #or"
      ]
    },
    {
      "cell_type": "markdown",
      "metadata": {
        "id": "0iKNuQun_lcD"
      },
      "source": [
        "## if statements"
      ]
    },
    {
      "cell_type": "code",
      "execution_count": null,
      "metadata": {
        "id": "C7-5-OEg_lcD",
        "outputId": "6f751b1d-cfc3-4d75-93b4-29867eb398af"
      },
      "outputs": [
        {
          "name": "stdout",
          "output_type": "stream",
          "text": [
            "is less\n"
          ]
        }
      ],
      "source": [
        "if  x < y:\n",
        "    print(\"is less\")"
      ]
    },
    {
      "cell_type": "code",
      "execution_count": null,
      "metadata": {
        "id": "05FLMLg8_lcD",
        "outputId": "e165955a-00cd-4aba-ecc7-b339ea9aa8db"
      },
      "outputs": [
        {
          "name": "stdout",
          "output_type": "stream",
          "text": [
            "is greater\n"
          ]
        }
      ],
      "source": [
        "x = 25\n",
        "if  x < y:\n",
        "    print(\"is less\")\n",
        "else:\n",
        "    print(\"is greater\")"
      ]
    },
    {
      "cell_type": "code",
      "execution_count": null,
      "metadata": {
        "id": "ayfmPzTy_lcD",
        "outputId": "6ab974cd-2477-4414-e202-809e4e51fe4c"
      },
      "outputs": [
        {
          "name": "stdout",
          "output_type": "stream",
          "text": [
            "is equal\n"
          ]
        }
      ],
      "source": [
        "x = 20\n",
        "if  x < y:\n",
        "    print(\"is less\")\n",
        "elif x > y:\n",
        "    print(\"is greater\")\n",
        "else:\n",
        "    print(\"is equal\")"
      ]
    },
    {
      "cell_type": "markdown",
      "metadata": {
        "id": "AYJVHT5v_lcD"
      },
      "source": [
        "## Loops"
      ]
    },
    {
      "cell_type": "code",
      "execution_count": null,
      "metadata": {
        "id": "d4g6cO0U_lcD",
        "outputId": "b1b6dac9-4c4b-4418-ce97-57174133d2e8"
      },
      "outputs": [
        {
          "name": "stdout",
          "output_type": "stream",
          "text": [
            "range(0, 10)\n"
          ]
        }
      ],
      "source": [
        "newset = range(10)\n",
        "print(newset)"
      ]
    },
    {
      "cell_type": "code",
      "execution_count": null,
      "metadata": {
        "id": "x9fIWSr1_lcD",
        "outputId": "335b9a64-ec5f-4ea9-b9ba-1b2b2833f9dc"
      },
      "outputs": [
        {
          "name": "stdout",
          "output_type": "stream",
          "text": [
            "9\n",
            "31\n",
            "18\n",
            "10\n",
            "16\n",
            "48\n",
            "26\n",
            "32\n",
            "22\n",
            "43\n"
          ]
        }
      ],
      "source": [
        "import random\n",
        "\n",
        "for i in range(10): #0 1 2 3 4 5 6 7 8 9 range(lower, upper, step)\n",
        "    n = random.randint(1, 50)\n",
        "    print(n)"
      ]
    },
    {
      "cell_type": "code",
      "execution_count": null,
      "metadata": {
        "id": "ds3cICPj_lcE",
        "outputId": "7ed6ddcc-d9fe-4536-c467-3d917d4435b9"
      },
      "outputs": [
        {
          "name": "stdout",
          "output_type": "stream",
          "text": [
            "Another\n",
            "24\n",
            "Another\n",
            "19\n",
            "Another\n",
            "8\n",
            "Another\n",
            "20\n",
            "Another\n",
            "22\n",
            "Another\n",
            "29\n"
          ]
        }
      ],
      "source": [
        "i = 0\n",
        "while i < 25:\n",
        "    print(\"Another\")\n",
        "    i = random.randint(1, 30)\n",
        "    print(i)"
      ]
    },
    {
      "cell_type": "code",
      "execution_count": null,
      "metadata": {
        "id": "5fDXL-Cm_lcE"
      },
      "outputs": [],
      "source": []
    }
  ],
  "metadata": {
    "celltoolbar": "Slideshow",
    "kernelspec": {
      "display_name": "Python 3 (ipykernel)",
      "language": "python",
      "name": "python3"
    },
    "language_info": {
      "codemirror_mode": {
        "name": "ipython",
        "version": 3
      },
      "file_extension": ".py",
      "mimetype": "text/x-python",
      "name": "python",
      "nbconvert_exporter": "python",
      "pygments_lexer": "ipython3",
      "version": "3.11.3"
    },
    "latex_envs": {
      "LaTeX_envs_menu_present": true,
      "autoclose": false,
      "autocomplete": true,
      "bibliofile": "biblio.bib",
      "cite_by": "apalike",
      "current_citInitial": 1,
      "eqLabelWithNumbers": true,
      "eqNumInitial": 1,
      "hotkeys": {
        "equation": "Ctrl-E",
        "itemize": "Ctrl-I"
      },
      "labels_anchors": false,
      "latex_user_defs": false,
      "report_style_numbering": false,
      "user_envs_cfg": false
    },
    "colab": {
      "provenance": []
    }
  },
  "nbformat": 4,
  "nbformat_minor": 0
}