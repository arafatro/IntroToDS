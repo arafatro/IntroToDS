{
  "cells": [
    {
      "cell_type": "markdown",
      "metadata": {
        "id": "FFKttOyw_lb1"
      },
      "source": [
        "# Python Basics & Advanced Topics Lab Lecture\n",
        "\n",
        "Welcome to this lab lecture where we will cover Python fundamentals along with topics from the latest curriculum. Today’s content includes:\n",
        "- Basic syntax and comments  \n",
        "- Variables, data types, and string formatting  \n",
        "- Data structures: lists, dictionaries, and sets  \n",
        "- Operators, conditionals, and loops  \n",
        "- Advanced topics: f-strings, comprehensions, lambda functions, error handling, and pattern matching (Python 3.10+)\n",
        "\n",
        "Let's get started!"
      ]
    },
    {
      "cell_type": "markdown",
      "metadata": {
        "id": "43bQBix7_lb3"
      },
      "source": [
        "## Comments in Python\n",
        "\n",
        "- **Single-line comments:** Use `#` to comment out a single line.\n",
        "- **Multi-line comments:** Use triple quotes (`\"\"\"` or `'''`) for multiple lines.\n",
        "\n",
        "For Example:"
      ]
    },
    {
      "cell_type": "code",
      "execution_count": null,
      "metadata": {
        "colab": {
          "base_uri": "https://localhost:8080/",
          "height": 53
        },
        "id": "sIExMlst_lb3",
        "outputId": "f9a2a409-5883-4c9f-9a32-0f1a82e10b9f"
      },
      "outputs": [
        {
          "output_type": "stream",
          "name": "stdout",
          "text": [
            "Hello World!\n"
          ]
        },
        {
          "output_type": "execute_result",
          "data": {
            "text/plain": [
              "'\\nThis is a multi-line comment.\\nIt can span several lines.\\n'"
            ],
            "application/vnd.google.colaboratory.intrinsic+json": {
              "type": "string"
            }
          },
          "metadata": {},
          "execution_count": 64
        }
      ],
      "source": [
        "# This is a single-line comment\n",
        "\n",
        "print(\"Hello World!\")  # Prints Hello World!\n",
        "\n",
        "\"\"\"\n",
        "This is a multi-line comment.\n",
        "It can span several lines.\n",
        "\"\"\"\n",
        "\n",
        "# Use shortcuts: Ctrl + / (Windows/Linux) or Cmd + / (Mac) to toggle comments."
      ]
    },
    {
      "cell_type": "markdown",
      "metadata": {
        "id": "NJWbKuOn_lb5"
      },
      "source": [
        "## Variables\n",
        "\n",
        "Variables store data values. Python is dynamically typed, meaning you can change the type of a variable after it's been created.\n"
      ]
    },
    {
      "cell_type": "code",
      "execution_count": null,
      "metadata": {
        "id": "aK0-YnqE_lb5"
      },
      "outputs": [],
      "source": [
        "# Assigning values to variables\n",
        "x = 5\n",
        "y = \"string\""
      ]
    },
    {
      "cell_type": "code",
      "source": [
        "print(x, y)  # Output: 5 string"
      ],
      "metadata": {
        "id": "RNhldD9iC5zn",
        "outputId": "173f32fe-5378-49dc-c1ef-6fe74c1dfd31",
        "colab": {
          "base_uri": "https://localhost:8080/"
        }
      },
      "execution_count": null,
      "outputs": [
        {
          "output_type": "stream",
          "name": "stdout",
          "text": [
            "5 string\n"
          ]
        }
      ]
    },
    {
      "cell_type": "code",
      "source": [
        "# Reassigning variables with different types\n",
        "x = 10\n",
        "x = \"another\"\n",
        "print(x, y)  # Output: another string"
      ],
      "metadata": {
        "id": "nog6M5yrC7t4",
        "outputId": "c2ffd89b-f475-4cfa-fdc6-66b20459fd29",
        "colab": {
          "base_uri": "https://localhost:8080/"
        }
      },
      "execution_count": null,
      "outputs": [
        {
          "output_type": "stream",
          "name": "stdout",
          "text": [
            "another string\n"
          ]
        }
      ]
    },
    {
      "cell_type": "markdown",
      "metadata": {
        "id": "A8AhWwYe_lb6"
      },
      "source": [
        "### Rules for Naming Variables\n",
        "\n",
        "- Variable names can include letters, numbers, and underscores.\n",
        "- They cannot start with a number.\n",
        "- Names are case-sensitive.\n"
      ]
    },
    {
      "cell_type": "code",
      "execution_count": null,
      "metadata": {
        "colab": {
          "base_uri": "https://localhost:8080/"
        },
        "id": "t4qyX0sO_lb6",
        "outputId": "f5513901-d53c-4f4d-a542-eb0adb8359c0"
      },
      "outputs": [
        {
          "output_type": "execute_result",
          "data": {
            "text/plain": [
              "1"
            ]
          },
          "metadata": {},
          "execution_count": 68
        }
      ],
      "source": [
        "myVar = 1\n",
        "my_var = 1\n",
        "myvar2 = 1\n",
        "_myvar = 1\n",
        "MyVar = 1\n",
        "\n",
        "MyVar"
      ]
    },
    {
      "cell_type": "code",
      "execution_count": null,
      "metadata": {
        "colab": {
          "base_uri": "https://localhost:8080/",
          "height": 106
        },
        "id": "GfsvI6uM_lb7",
        "outputId": "014a7a8e-2082-46e5-d139-f7d530e1ca05"
      },
      "outputs": [
        {
          "output_type": "error",
          "ename": "SyntaxError",
          "evalue": "invalid decimal literal (<ipython-input-69-29075fb64ebe>, line 1)",
          "traceback": [
            "\u001b[0;36m  File \u001b[0;32m\"<ipython-input-69-29075fb64ebe>\"\u001b[0;36m, line \u001b[0;32m1\u001b[0m\n\u001b[0;31m    2myvar = 1\u001b[0m\n\u001b[0m    ^\u001b[0m\n\u001b[0;31mSyntaxError\u001b[0m\u001b[0;31m:\u001b[0m invalid decimal literal\n"
          ]
        }
      ],
      "source": [
        "2myvar = 1"
      ]
    },
    {
      "cell_type": "code",
      "execution_count": null,
      "metadata": {
        "colab": {
          "base_uri": "https://localhost:8080/"
        },
        "id": "N7x4aVsK_lb7",
        "outputId": "9a25cc0b-0039-4d45-f0a1-b45cd80d9b94"
      },
      "outputs": [
        {
          "output_type": "stream",
          "name": "stdout",
          "text": [
            "100 type True\n"
          ]
        }
      ],
      "source": [
        "# Multiple assignment in one line:\n",
        "x, y, z = 100, \"type\", True\n",
        "print(x, y, z)"
      ]
    },
    {
      "cell_type": "code",
      "execution_count": null,
      "metadata": {
        "colab": {
          "base_uri": "https://localhost:8080/"
        },
        "id": "rLwZvI_i_lb7",
        "outputId": "de886fb9-f083-429e-8582-e650c8e20cd7"
      },
      "outputs": [
        {
          "output_type": "stream",
          "name": "stdout",
          "text": [
            "Value of x is 5\n",
            "Value of x is 1\n"
          ]
        }
      ],
      "source": [
        "# Using a global variable inside a function:\n",
        "x = 5\n",
        "def myfunc():\n",
        "    global x\n",
        "    print(\"Value of x is\", x)\n",
        "    x = 1\n",
        "\n",
        "myfunc()  # Prints: Value of x is 5, then sets x to 1\n",
        "myfunc()  # Prints: Value of x is 1"
      ]
    },
    {
      "cell_type": "markdown",
      "metadata": {
        "id": "TWL1CdTy_lb7"
      },
      "source": [
        "## Printing and String Formatting\n",
        "\n",
        "You can use the `print()` function to display text and variable values. Python provides multiple ways to format strings.\n"
      ]
    },
    {
      "cell_type": "code",
      "execution_count": null,
      "metadata": {
        "colab": {
          "base_uri": "https://localhost:8080/",
          "height": 36
        },
        "id": "K0I-MryK_lb7",
        "outputId": "8772cc1f-c57a-4763-9bcd-1903c87bdb47"
      },
      "outputs": [
        {
          "output_type": "execute_result",
          "data": {
            "text/plain": [
              "'something'"
            ],
            "application/vnd.google.colaboratory.intrinsic+json": {
              "type": "string"
            }
          },
          "metadata": {},
          "execution_count": 72
        }
      ],
      "source": [
        "myVar = \"something\"\n",
        "\n",
        "myVar"
      ]
    },
    {
      "cell_type": "code",
      "execution_count": null,
      "metadata": {
        "colab": {
          "base_uri": "https://localhost:8080/"
        },
        "id": "wyOUFSKc_lb7",
        "outputId": "063db2d1-f770-4533-be20-40dbbe0e61f8"
      },
      "outputs": [
        {
          "output_type": "stream",
          "name": "stdout",
          "text": [
            "something\n"
          ]
        }
      ],
      "source": [
        "print(myVar)"
      ]
    },
    {
      "cell_type": "code",
      "execution_count": null,
      "metadata": {
        "colab": {
          "base_uri": "https://localhost:8080/"
        },
        "id": "XzgIaqlG_lb7",
        "outputId": "67704a88-90ef-4fda-8867-6b6976130e6a"
      },
      "outputs": [
        {
          "output_type": "stream",
          "name": "stdout",
          "text": [
            "My name is Alexandra Abramov and I am 76 years old.\n",
            "My name is Alexandra Abramov and I am 76 years old.\n",
            "My name is Alexandra Abramov and I am 76 years old.\n"
          ]
        }
      ],
      "source": [
        "# Using the format() method\n",
        "name = \"Alexandra Abramov\"\n",
        "age = 76\n",
        "print(\"My name is {var1} and I am {var2} years old.\".format(var1=name, var2=age))\n",
        "print(\"My name is {} and I am {} years old.\".format(name, age))\n",
        "\n",
        "# Using f-strings (Python 3.6+)\n",
        "print(f\"My name is {name} and I am {age} years old.\")"
      ]
    },
    {
      "cell_type": "markdown",
      "metadata": {
        "id": "ENvsHNqf_lb7"
      },
      "source": [
        "## Data Types\n",
        "\n",
        "Learn about basic data types such as integers, floats, booleans, and how to check a variable's type."
      ]
    },
    {
      "cell_type": "code",
      "execution_count": null,
      "metadata": {
        "colab": {
          "base_uri": "https://localhost:8080/"
        },
        "id": "6MKR-IjM_lb8",
        "outputId": "9118721b-ee5e-47c6-c83e-5beb73d87540"
      },
      "outputs": [
        {
          "output_type": "stream",
          "name": "stdout",
          "text": [
            "0.6666666666666666 <class 'float'>\n"
          ]
        }
      ],
      "source": [
        "z = 2/3\n",
        "print(z, type(z))  # Output: float"
      ]
    },
    {
      "cell_type": "code",
      "execution_count": null,
      "metadata": {
        "colab": {
          "base_uri": "https://localhost:8080/"
        },
        "id": "f5pU5zcy_lb8",
        "outputId": "40e3857f-c2c9-47d3-8198-af2b20ebf550"
      },
      "outputs": [
        {
          "output_type": "stream",
          "name": "stdout",
          "text": [
            "False <class 'bool'>\n"
          ]
        }
      ],
      "source": [
        "x = False\n",
        "print(x, type(x))"
      ]
    },
    {
      "cell_type": "code",
      "execution_count": null,
      "metadata": {
        "colab": {
          "base_uri": "https://localhost:8080/"
        },
        "id": "TNwpbWkY_lb8",
        "outputId": "fec7c519-91ef-45d5-acc4-f83e40451edb"
      },
      "outputs": [
        {
          "output_type": "stream",
          "name": "stdout",
          "text": [
            "False\n"
          ]
        }
      ],
      "source": [
        "print(type(x) == type(z))  # Comparing types"
      ]
    },
    {
      "cell_type": "code",
      "execution_count": null,
      "metadata": {
        "colab": {
          "base_uri": "https://localhost:8080/"
        },
        "id": "hsgEN_AM_lb8",
        "outputId": "59d09f48-f57c-4a4a-b11f-64a48064392e"
      },
      "outputs": [
        {
          "output_type": "stream",
          "name": "stdout",
          "text": [
            "0 <class 'int'>\n"
          ]
        }
      ],
      "source": [
        "# Converting a float to an integer\n",
        "x = int(z)\n",
        "print(x, type(x))"
      ]
    },
    {
      "cell_type": "markdown",
      "metadata": {
        "id": "kp6yRefU_lb8"
      },
      "source": [
        "## Strings\n",
        "\n",
        "Strings can be created with single or double quotes. They support concatenation, slicing, and more.\n"
      ]
    },
    {
      "cell_type": "code",
      "execution_count": null,
      "metadata": {
        "colab": {
          "base_uri": "https://localhost:8080/"
        },
        "id": "4gB8NT97_lb8",
        "outputId": "3003d1f6-1a97-4fe4-f4cc-25ab6df91e86"
      },
      "outputs": [
        {
          "output_type": "stream",
          "name": "stdout",
          "text": [
            "single\n",
            "double\n"
          ]
        }
      ],
      "source": [
        "# Examples of string literals\n",
        "print('single')\n",
        "print(\"double\")"
      ]
    },
    {
      "cell_type": "code",
      "execution_count": null,
      "metadata": {
        "colab": {
          "base_uri": "https://localhost:8080/"
        },
        "id": "7Kxg5qKO_lb8",
        "outputId": "298fdb21-0fcb-44e3-b1e2-f5f62f482476"
      },
      "outputs": [
        {
          "output_type": "stream",
          "name": "stdout",
          "text": [
            "My name is Alexandra Abramov\n",
            "My name is  76\n"
          ]
        }
      ],
      "source": [
        "phrase = \"My name is \"\n",
        "print(phrase + name)\n",
        "print(phrase, age)"
      ]
    },
    {
      "cell_type": "code",
      "execution_count": null,
      "metadata": {
        "colab": {
          "base_uri": "https://localhost:8080/"
        },
        "id": "ZrpiCNqr_lb8",
        "outputId": "ecbba356-592c-4aa1-aee8-03397179db1a"
      },
      "outputs": [
        {
          "output_type": "stream",
          "name": "stdout",
          "text": [
            "You're students.\n"
          ]
        }
      ],
      "source": [
        "words = \"You're students.\"\n",
        "print(words)"
      ]
    },
    {
      "cell_type": "markdown",
      "metadata": {
        "id": "YzK-hZ27_lb8"
      },
      "source": [
        "## Lists\n",
        "\n",
        "Lists are ordered, mutable collections that can store elements of different types.\n"
      ]
    },
    {
      "cell_type": "code",
      "execution_count": null,
      "metadata": {
        "colab": {
          "base_uri": "https://localhost:8080/"
        },
        "id": "kxyNdt1F_lb9",
        "outputId": "62b2598b-4a67-4d9e-b43e-21cf9b0e649e"
      },
      "outputs": [
        {
          "output_type": "stream",
          "name": "stdout",
          "text": [
            "[10, 6.5, 'z', ['You', 'Me'], False]\n"
          ]
        }
      ],
      "source": [
        "# Creating and manipulating lists\n",
        "myList = [10, 6.5, 'z', [\"You\", \"Me\"], False]\n",
        "print(myList)"
      ]
    },
    {
      "cell_type": "code",
      "execution_count": null,
      "metadata": {
        "colab": {
          "base_uri": "https://localhost:8080/"
        },
        "id": "kpruZSbV_lb9",
        "outputId": "fa406eda-1a30-48d4-c59b-e8f9adeb378a"
      },
      "outputs": [
        {
          "output_type": "stream",
          "name": "stdout",
          "text": [
            "False\n"
          ]
        }
      ],
      "source": [
        "# Accessing list items\n",
        "print(myList[-1])  # Last element"
      ]
    },
    {
      "cell_type": "code",
      "execution_count": null,
      "metadata": {
        "colab": {
          "base_uri": "https://localhost:8080/"
        },
        "id": "j17fu04e_lb9",
        "outputId": "4431a9b6-805c-4a25-d2a0-7544122c4bc5"
      },
      "outputs": [
        {
          "output_type": "stream",
          "name": "stdout",
          "text": [
            "[6.5, 'z', ['You', 'Me']]\n"
          ]
        }
      ],
      "source": [
        "print(myList[1:4])  # Slicing"
      ]
    },
    {
      "cell_type": "code",
      "execution_count": null,
      "metadata": {
        "colab": {
          "base_uri": "https://localhost:8080/"
        },
        "id": "CZY_ULIx_lb9",
        "outputId": "87397a8e-e567-4b1f-b767-c40439995fb5"
      },
      "outputs": [
        {
          "output_type": "stream",
          "name": "stdout",
          "text": [
            "[10, 6.5, 'z', ['You', 'Me'], False, True]\n"
          ]
        }
      ],
      "source": [
        "# Modifying lists\n",
        "myList.append(True)\n",
        "print(myList)"
      ]
    },
    {
      "cell_type": "code",
      "execution_count": null,
      "metadata": {
        "colab": {
          "base_uri": "https://localhost:8080/"
        },
        "id": "tLZZ7Kl4_lb9",
        "outputId": "da5c5a09-a5b4-480b-fbf2-bb0f307929e6"
      },
      "outputs": [
        {
          "output_type": "stream",
          "name": "stdout",
          "text": [
            "[10, 6.5, 'z']\n"
          ]
        }
      ],
      "source": [
        "# Slicing to keep a subset of the list\n",
        "myList = myList[0:3]\n",
        "print(myList)"
      ]
    },
    {
      "cell_type": "code",
      "execution_count": null,
      "metadata": {
        "colab": {
          "base_uri": "https://localhost:8080/"
        },
        "id": "GgKGBVqe_lb9",
        "outputId": "e843898b-d464-4e76-d87f-4ee681a62703"
      },
      "outputs": [
        {
          "output_type": "stream",
          "name": "stdout",
          "text": [
            "[10]\n"
          ]
        }
      ],
      "source": [
        "print(myList[:1])"
      ]
    },
    {
      "cell_type": "code",
      "execution_count": null,
      "metadata": {
        "colab": {
          "base_uri": "https://localhost:8080/"
        },
        "id": "DMrgPzQI_lb-",
        "outputId": "942594e1-0461-465d-8a18-3bee3258df2d"
      },
      "outputs": [
        {
          "output_type": "stream",
          "name": "stdout",
          "text": [
            "3\n"
          ]
        }
      ],
      "source": [
        "# Getting the length of the list\n",
        "print(len(myList))"
      ]
    },
    {
      "cell_type": "code",
      "execution_count": null,
      "metadata": {
        "colab": {
          "base_uri": "https://localhost:8080/"
        },
        "id": "YPK5mjNv_lb-",
        "outputId": "8683a5c1-99a6-45cd-e8db-6ce5a5e65990"
      },
      "outputs": [
        {
          "output_type": "stream",
          "name": "stdout",
          "text": [
            "[10, 'y', 6.5, 'z']\n"
          ]
        }
      ],
      "source": [
        "# Inserting an element\n",
        "myList.insert(1, 'y')\n",
        "print(myList)"
      ]
    },
    {
      "cell_type": "code",
      "execution_count": null,
      "metadata": {
        "colab": {
          "base_uri": "https://localhost:8080/",
          "height": 176
        },
        "id": "bLf8_QvC_lb-",
        "outputId": "45114051-ad43-4984-c9b3-a3386780d104"
      },
      "outputs": [
        {
          "output_type": "error",
          "ename": "ValueError",
          "evalue": "list.remove(x): x not in list",
          "traceback": [
            "\u001b[0;31m---------------------------------------------------------------------------\u001b[0m",
            "\u001b[0;31mValueError\u001b[0m                                Traceback (most recent call last)",
            "\u001b[0;32m<ipython-input-38-fe6b892bc369>\u001b[0m in \u001b[0;36m<cell line: 0>\u001b[0;34m()\u001b[0m\n\u001b[1;32m      1\u001b[0m \u001b[0;31m# Removing an element (if it exists)\u001b[0m\u001b[0;34m\u001b[0m\u001b[0;34m\u001b[0m\u001b[0m\n\u001b[1;32m      2\u001b[0m \u001b[0;31m# Note: Removing a nested list may fail if it doesn't match exactly\u001b[0m\u001b[0;34m\u001b[0m\u001b[0;34m\u001b[0m\u001b[0m\n\u001b[0;32m----> 3\u001b[0;31m \u001b[0mmyList\u001b[0m\u001b[0;34m.\u001b[0m\u001b[0mremove\u001b[0m\u001b[0;34m(\u001b[0m\u001b[0;34m[\u001b[0m\u001b[0;34m\"You\"\u001b[0m\u001b[0;34m,\u001b[0m \u001b[0;34m\"Me\"\u001b[0m\u001b[0;34m]\u001b[0m\u001b[0;34m)\u001b[0m  \u001b[0;31m# Uncomment if applicable\u001b[0m\u001b[0;34m\u001b[0m\u001b[0;34m\u001b[0m\u001b[0m\n\u001b[0m",
            "\u001b[0;31mValueError\u001b[0m: list.remove(x): x not in list"
          ]
        }
      ],
      "source": [
        "# Removing an element (if it exists)\n",
        "# Note: Removing a nested list may fail if it doesn't match exactly\n",
        "myList.remove([\"You\", \"Me\"])  # Uncomment if applicable"
      ]
    },
    {
      "cell_type": "code",
      "execution_count": null,
      "metadata": {
        "colab": {
          "base_uri": "https://localhost:8080/"
        },
        "id": "-4QChI3C_lb-",
        "outputId": "117a7153-e823-4f3a-a318-9ef5f78b91aa"
      },
      "outputs": [
        {
          "output_type": "stream",
          "name": "stdout",
          "text": [
            "[10, 'y', 6.5]\n"
          ]
        }
      ],
      "source": [
        "# Removing the last element using pop\n",
        "myList.pop(-1)\n",
        "print(myList)"
      ]
    },
    {
      "cell_type": "code",
      "execution_count": null,
      "metadata": {
        "colab": {
          "base_uri": "https://localhost:8080/"
        },
        "id": "-0gYVKvU_lb_",
        "outputId": "45d6c6c4-339a-4624-f414-cf7eb392d063"
      },
      "outputs": [
        {
          "output_type": "stream",
          "name": "stdout",
          "text": [
            "['y', 6.5]\n"
          ]
        }
      ],
      "source": [
        "# Deleting an element by index\n",
        "del myList[0]\n",
        "print(myList)"
      ]
    },
    {
      "cell_type": "code",
      "execution_count": null,
      "metadata": {
        "colab": {
          "base_uri": "https://localhost:8080/"
        },
        "id": "-cozVrox_lb_",
        "outputId": "5af77947-d5e2-4af2-80ee-3241d9f6d997"
      },
      "outputs": [
        {
          "output_type": "stream",
          "name": "stdout",
          "text": [
            "['y', 6.5, 1, 2, 3]\n"
          ]
        }
      ],
      "source": [
        "# List concatenation\n",
        "mySecList = [1, 2, 3]\n",
        "list3 = myList + mySecList\n",
        "print(list3)"
      ]
    },
    {
      "cell_type": "markdown",
      "metadata": {
        "id": "fMESFvl1_lb_"
      },
      "source": [
        "## Dictionaries\n",
        "\n",
        "Dictionaries store data in key-value pairs.\n"
      ]
    },
    {
      "cell_type": "code",
      "execution_count": null,
      "metadata": {
        "colab": {
          "base_uri": "https://localhost:8080/"
        },
        "id": "5os4UXyd_lb_",
        "outputId": "f66037fb-f015-4ee8-8069-200dee429f50"
      },
      "outputs": [
        {
          "output_type": "stream",
          "name": "stdout",
          "text": [
            "{1: {'name': 'Alexandra', 'age': 35, 'height': 187, 'year': 2019}, 2: {'name': 'Abramov', 'age': 37, 'height': 167, 'year': 2017}}\n"
          ]
        }
      ],
      "source": [
        "ids = {\n",
        "    1: {\n",
        "        \"name\": \"Alexandra\",\n",
        "        \"age\": 35,\n",
        "        \"height\": 187,\n",
        "        \"year\": 2019\n",
        "    },\n",
        "    2: {\n",
        "        \"name\": \"Abramov\",\n",
        "        \"age\": 37,\n",
        "        \"height\": 167,\n",
        "        \"year\": 2017\n",
        "    }\n",
        "}\n",
        "print(ids)"
      ]
    },
    {
      "cell_type": "code",
      "execution_count": null,
      "metadata": {
        "colab": {
          "base_uri": "https://localhost:8080/"
        },
        "id": "w0lpiX6V_lb_",
        "outputId": "cfd1e766-0688-4e85-a175-d518434c708b"
      },
      "outputs": [
        {
          "output_type": "stream",
          "name": "stdout",
          "text": [
            "{'name': 'Alexandra', 'age': 35, 'height': 187, 'year': 2019}\n",
            "{'name': 'Abramov', 'age': 37, 'height': 167, 'year': 2017}\n"
          ]
        }
      ],
      "source": [
        "# Accessing dictionary values\n",
        "myName = ids[1]\n",
        "othrName = ids.get(2)\n",
        "print(myName)\n",
        "print(othrName)"
      ]
    },
    {
      "cell_type": "code",
      "execution_count": null,
      "metadata": {
        "colab": {
          "base_uri": "https://localhost:8080/"
        },
        "id": "A0dpo2F0_lb_",
        "outputId": "b9490990-350e-4a5d-cb5a-833370a4d76e"
      },
      "outputs": [
        {
          "output_type": "execute_result",
          "data": {
            "text/plain": [
              "37"
            ]
          },
          "metadata": {},
          "execution_count": 113
        }
      ],
      "source": [
        "age = othrName[\"age\"]\n",
        "age"
      ]
    },
    {
      "cell_type": "code",
      "execution_count": null,
      "metadata": {
        "colab": {
          "base_uri": "https://localhost:8080/"
        },
        "id": "WBjJLgQR_lb_",
        "outputId": "a957e5db-aaa0-4946-d8f6-ca9b02bba994"
      },
      "outputs": [
        {
          "output_type": "stream",
          "name": "stdout",
          "text": [
            "{'name': 'Abramov', 'age': 37, 'height': 167, 'year': 2021}\n"
          ]
        }
      ],
      "source": [
        "# Updating a value\n",
        "othrName[\"year\"] = 2021\n",
        "print(othrName)"
      ]
    },
    {
      "cell_type": "markdown",
      "metadata": {
        "id": "tE1b_vIt_lb_"
      },
      "source": [
        "## Sets\n",
        "\n",
        "Sets are unordered collections of unique elements. They support operations like union and difference.\n"
      ]
    },
    {
      "cell_type": "code",
      "execution_count": null,
      "metadata": {
        "colab": {
          "base_uri": "https://localhost:8080/"
        },
        "id": "TENobvzD_lb_",
        "outputId": "8990ae32-8f30-4ba2-cf0a-01e06f39147a"
      },
      "outputs": [
        {
          "output_type": "stream",
          "name": "stdout",
          "text": [
            "{1, 2, 3, 'c', 'b', 'a'}\n"
          ]
        }
      ],
      "source": [
        "set1 = {\"a\", \"b\", \"c\"}\n",
        "set2 = {1, 2, 3}\n",
        "\n",
        "# Union of two sets\n",
        "set3 = set1.union(set2)\n",
        "print(set3)"
      ]
    },
    {
      "cell_type": "code",
      "execution_count": null,
      "metadata": {
        "id": "hMyY-nns_lb_"
      },
      "outputs": [],
      "source": [
        "# Removing elements from a set\n",
        "set3.discard(3)  # Discard does not raise an error if element is not found"
      ]
    },
    {
      "cell_type": "code",
      "execution_count": null,
      "metadata": {
        "id": "PAaXi5yx_lb_"
      },
      "outputs": [],
      "source": [
        "set3.remove('a')  # remove() will raise an error if element is not found"
      ]
    },
    {
      "cell_type": "code",
      "execution_count": null,
      "metadata": {
        "colab": {
          "base_uri": "https://localhost:8080/",
          "height": 141
        },
        "id": "ARzxYynS_lcA",
        "outputId": "84f69a3d-e679-4201-9ba0-c58e864ccd59"
      },
      "outputs": [
        {
          "output_type": "error",
          "ename": "KeyError",
          "evalue": "'d'",
          "traceback": [
            "\u001b[0;31m---------------------------------------------------------------------------\u001b[0m",
            "\u001b[0;31mKeyError\u001b[0m                                  Traceback (most recent call last)",
            "\u001b[0;32m<ipython-input-48-9b226f9104d6>\u001b[0m in \u001b[0;36m<cell line: 0>\u001b[0;34m()\u001b[0m\n\u001b[0;32m----> 1\u001b[0;31m \u001b[0mset3\u001b[0m\u001b[0;34m.\u001b[0m\u001b[0mremove\u001b[0m\u001b[0;34m(\u001b[0m\u001b[0;34m'd'\u001b[0m\u001b[0;34m)\u001b[0m  \u001b[0;31m# Uncommenting this will cause an error\u001b[0m\u001b[0;34m\u001b[0m\u001b[0;34m\u001b[0m\u001b[0m\n\u001b[0m",
            "\u001b[0;31mKeyError\u001b[0m: 'd'"
          ]
        }
      ],
      "source": [
        "set3.remove('d')  # Uncommenting this will cause an error"
      ]
    },
    {
      "cell_type": "code",
      "execution_count": null,
      "metadata": {
        "id": "VE2uYsEO_lcA"
      },
      "outputs": [],
      "source": [
        "set3.discard('d')  # This is safe even if 'd' is not present"
      ]
    },
    {
      "cell_type": "code",
      "execution_count": null,
      "metadata": {
        "colab": {
          "base_uri": "https://localhost:8080/"
        },
        "id": "MvCCHMQV_lcC",
        "outputId": "a20f7d44-28f2-4720-906a-329d3f631221"
      },
      "outputs": [
        {
          "output_type": "stream",
          "name": "stdout",
          "text": [
            "{1, 2, 'c', 'b'}\n"
          ]
        }
      ],
      "source": [
        "print(set3)"
      ]
    },
    {
      "cell_type": "markdown",
      "metadata": {
        "id": "oUnaX1ge_lcC"
      },
      "source": [
        "## Operators\n",
        "\n",
        "Python provides various operators for arithmetic, comparisons, and logical operations.\n"
      ]
    },
    {
      "cell_type": "code",
      "execution_count": null,
      "metadata": {
        "id": "z7SBo41m_lcC"
      },
      "outputs": [],
      "source": [
        "x = 10\n",
        "y = 20"
      ]
    },
    {
      "cell_type": "code",
      "execution_count": null,
      "metadata": {
        "colab": {
          "base_uri": "https://localhost:8080/"
        },
        "id": "dJCgiAu0_lcC",
        "outputId": "4ce7f284-8626-42be-9f3a-8f3a489ce2d1"
      },
      "outputs": [
        {
          "output_type": "execute_result",
          "data": {
            "text/plain": [
              "False"
            ]
          },
          "metadata": {},
          "execution_count": 121
        }
      ],
      "source": [
        "x > y"
      ]
    },
    {
      "cell_type": "code",
      "execution_count": null,
      "metadata": {
        "colab": {
          "base_uri": "https://localhost:8080/"
        },
        "id": "FnzrEwrk_lcC",
        "outputId": "f890bfe4-dcbd-426c-8956-b8b61551a3ad"
      },
      "outputs": [
        {
          "output_type": "execute_result",
          "data": {
            "text/plain": [
              "True"
            ]
          },
          "metadata": {},
          "execution_count": 122
        }
      ],
      "source": [
        "x < y"
      ]
    },
    {
      "cell_type": "code",
      "execution_count": null,
      "metadata": {
        "colab": {
          "base_uri": "https://localhost:8080/"
        },
        "id": "-Z2ZzfHw_lcC",
        "outputId": "d05207f6-c715-4f6c-8558-8b031db76c70"
      },
      "outputs": [
        {
          "output_type": "execute_result",
          "data": {
            "text/plain": [
              "False"
            ]
          },
          "metadata": {},
          "execution_count": 123
        }
      ],
      "source": [
        "x == y # x != y"
      ]
    },
    {
      "cell_type": "code",
      "execution_count": null,
      "metadata": {
        "colab": {
          "base_uri": "https://localhost:8080/"
        },
        "id": "aB64gR0B_lcD",
        "outputId": "c2915fbc-ccb8-49dd-a5dc-5b3b3ca156e8"
      },
      "outputs": [
        {
          "output_type": "execute_result",
          "data": {
            "text/plain": [
              "False"
            ]
          },
          "metadata": {},
          "execution_count": 124
        }
      ],
      "source": [
        "x >= y"
      ]
    },
    {
      "cell_type": "code",
      "execution_count": null,
      "metadata": {
        "colab": {
          "base_uri": "https://localhost:8080/"
        },
        "id": "4M0_kUv9_lcD",
        "outputId": "e4281758-a910-4901-8344-ac36953fdc5c"
      },
      "outputs": [
        {
          "output_type": "execute_result",
          "data": {
            "text/plain": [
              "True"
            ]
          },
          "metadata": {},
          "execution_count": 125
        }
      ],
      "source": [
        "x <= y"
      ]
    },
    {
      "cell_type": "code",
      "execution_count": null,
      "metadata": {
        "colab": {
          "base_uri": "https://localhost:8080/"
        },
        "id": "p3DF_8wm_lcD",
        "outputId": "b50d4721-b4e7-424d-8b1c-3f03f5ba9e0f"
      },
      "outputs": [
        {
          "output_type": "execute_result",
          "data": {
            "text/plain": [
              "True"
            ]
          },
          "metadata": {},
          "execution_count": 126
        }
      ],
      "source": [
        "not(x == y) # Equality"
      ]
    },
    {
      "cell_type": "code",
      "execution_count": null,
      "metadata": {
        "colab": {
          "base_uri": "https://localhost:8080/"
        },
        "id": "ZFsOwthE_lcD",
        "outputId": "83230b39-23e4-4372-d937-c6fa35b984fc"
      },
      "outputs": [
        {
          "output_type": "execute_result",
          "data": {
            "text/plain": [
              "True"
            ]
          },
          "metadata": {},
          "execution_count": 127
        }
      ],
      "source": [
        "x > 5 and x < 20 #or"
      ]
    },
    {
      "cell_type": "markdown",
      "metadata": {
        "id": "0iKNuQun_lcD"
      },
      "source": [
        "## If Statements\n",
        "\n",
        "Conditional statements allow you to execute code based on conditions.\n"
      ]
    },
    {
      "cell_type": "code",
      "execution_count": null,
      "metadata": {
        "colab": {
          "base_uri": "https://localhost:8080/"
        },
        "id": "05FLMLg8_lcD",
        "outputId": "f08afced-bca9-4fb3-9f7b-ab25dc259895"
      },
      "outputs": [
        {
          "output_type": "stream",
          "name": "stdout",
          "text": [
            "x is greater than or equal to y\n"
          ]
        }
      ],
      "source": [
        "# Simple if-else statement\n",
        "x = 25\n",
        "if x < y:\n",
        "    print(\"x is less than y\")\n",
        "else:\n",
        "    print(\"x is greater than or equal to y\")"
      ]
    },
    {
      "cell_type": "code",
      "execution_count": null,
      "metadata": {
        "colab": {
          "base_uri": "https://localhost:8080/"
        },
        "id": "ayfmPzTy_lcD",
        "outputId": "7605f0cf-5710-4d03-9910-93716b9ff460"
      },
      "outputs": [
        {
          "output_type": "stream",
          "name": "stdout",
          "text": [
            "x is equal to y\n"
          ]
        }
      ],
      "source": [
        "# If-elif-else statement\n",
        "x = 20\n",
        "if x < y:\n",
        "    print(\"x is less than y\")\n",
        "elif x > y:\n",
        "    print(\"x is greater than y\")\n",
        "else:\n",
        "    print(\"x is equal to y\")"
      ]
    },
    {
      "cell_type": "markdown",
      "metadata": {
        "id": "AYJVHT5v_lcD"
      },
      "source": [
        "## Loops\n",
        "\n",
        "Loops allow you to iterate over sequences or repeat tasks. We will see examples of both `for` and `while` loops.\n"
      ]
    },
    {
      "cell_type": "code",
      "execution_count": null,
      "metadata": {
        "colab": {
          "base_uri": "https://localhost:8080/"
        },
        "id": "d4g6cO0U_lcD",
        "outputId": "be1a01a5-7aac-4ff6-e134-602b03d0b198"
      },
      "outputs": [
        {
          "output_type": "stream",
          "name": "stdout",
          "text": [
            "For loop with range:\n",
            "0\n",
            "1\n",
            "2\n",
            "3\n",
            "4\n",
            "5\n",
            "6\n",
            "7\n",
            "8\n",
            "9\n"
          ]
        }
      ],
      "source": [
        "# Using a for loop with range\n",
        "print(\"For loop with range:\")\n",
        "for i in range(10):  # Generates numbers 0 to 9\n",
        "    print(i)"
      ]
    },
    {
      "cell_type": "code",
      "execution_count": null,
      "metadata": {
        "colab": {
          "base_uri": "https://localhost:8080/"
        },
        "id": "x9fIWSr1_lcD",
        "outputId": "df65ca6d-ecaa-4308-a714-25bc8e61b410"
      },
      "outputs": [
        {
          "output_type": "stream",
          "name": "stdout",
          "text": [
            "\n",
            "Random numbers using for loop:\n",
            "24\n",
            "22\n",
            "4\n",
            "10\n",
            "21\n",
            "43\n",
            "11\n",
            "37\n",
            "16\n",
            "3\n"
          ]
        }
      ],
      "source": [
        "# Example with random numbers\n",
        "import random\n",
        "print(\"\\nRandom numbers using for loop:\")\n",
        "for i in range(10):\n",
        "    n = random.randint(1, 50)\n",
        "    print(n)"
      ]
    },
    {
      "cell_type": "code",
      "execution_count": null,
      "metadata": {
        "colab": {
          "base_uri": "https://localhost:8080/"
        },
        "id": "ds3cICPj_lcE",
        "outputId": "18e1e655-d52d-43d3-b920-167da8b554c9"
      },
      "outputs": [
        {
          "output_type": "stream",
          "name": "stdout",
          "text": [
            "\n",
            "While loop example:\n",
            "Another\n",
            "7\n",
            "Another\n",
            "23\n",
            "Another\n",
            "18\n",
            "Another\n",
            "5\n",
            "Another\n",
            "29\n"
          ]
        }
      ],
      "source": [
        "# While loop example\n",
        "i = 0\n",
        "print(\"\\nWhile loop example:\")\n",
        "while i < 25:\n",
        "    print(\"Another\")\n",
        "    i = random.randint(1, 30)\n",
        "    print(i)"
      ]
    },
    {
      "cell_type": "markdown",
      "source": [
        "## Advanced Topics: Comprehensions and Lambda Functions\n",
        "\n",
        "### List Comprehensions\n",
        "A concise way to create lists.\n",
        "\n",
        "### Dictionary Comprehensions\n",
        "A concise way to create dictionaries.\n",
        "\n",
        "### Lambda Functions\n",
        "Anonymous functions defined with the `lambda` keyword.\n"
      ],
      "metadata": {
        "id": "dfKVtkl7Hu9d"
      }
    },
    {
      "cell_type": "code",
      "source": [
        "# List comprehension example: squares of numbers 0-9\n",
        "squares = [i**2 for i in range(10)]\n",
        "print(squares)"
      ],
      "metadata": {
        "id": "AOnBbl_uHwck",
        "outputId": "342d844c-f015-4520-fc64-634ef28985b0",
        "colab": {
          "base_uri": "https://localhost:8080/"
        }
      },
      "execution_count": null,
      "outputs": [
        {
          "output_type": "stream",
          "name": "stdout",
          "text": [
            "[0, 1, 4, 9, 16, 25, 36, 49, 64, 81]\n"
          ]
        }
      ]
    },
    {
      "cell_type": "code",
      "source": [
        "# Dictionary comprehension example: mapping numbers to their squares\n",
        "square_dict = {i: i**2 for i in range(10)}\n",
        "print(square_dict)"
      ],
      "metadata": {
        "id": "tX99kir1HzFi",
        "outputId": "b68ad662-6090-44ba-fcb9-d4f63c3af654",
        "colab": {
          "base_uri": "https://localhost:8080/"
        }
      },
      "execution_count": null,
      "outputs": [
        {
          "output_type": "stream",
          "name": "stdout",
          "text": [
            "{0: 0, 1: 1, 2: 4, 3: 9, 4: 16, 5: 25, 6: 36, 7: 49, 8: 64, 9: 81}\n"
          ]
        }
      ]
    },
    {
      "cell_type": "code",
      "source": [
        "# Lambda function example: a function that doubles a number\n",
        "double = lambda x: x * 2\n",
        "print(double(5))"
      ],
      "metadata": {
        "id": "crQPvzi7H3VU",
        "outputId": "c8eff8d1-8a54-41ea-cb4c-fa5805179f34",
        "colab": {
          "base_uri": "https://localhost:8080/"
        }
      },
      "execution_count": null,
      "outputs": [
        {
          "output_type": "stream",
          "name": "stdout",
          "text": [
            "10\n"
          ]
        }
      ]
    },
    {
      "cell_type": "markdown",
      "source": [
        "## Advanced Topics: Error Handling and Pattern Matching\n",
        "\n",
        "### Error Handling\n",
        "Use `try`, `except`, and `finally` to handle exceptions gracefully.\n",
        "\n",
        "### Pattern Matching (Python 3.10+)\n",
        "A new feature that allows more expressive handling of data using `match` statements.\n"
      ],
      "metadata": {
        "id": "oWib_5-IH5Vc"
      }
    },
    {
      "cell_type": "code",
      "source": [
        "# Error Handling Example\n",
        "try:\n",
        "    result = 10 / 0\n",
        "except ZeroDivisionError:\n",
        "    print(\"Error: Division by zero!\")\n",
        "finally:\n",
        "    print(\"This block always executes.\")"
      ],
      "metadata": {
        "id": "rMlw9qA2H7Zp",
        "outputId": "2379928d-85b4-4943-ae8d-abbe3689fc48",
        "colab": {
          "base_uri": "https://localhost:8080/"
        }
      },
      "execution_count": null,
      "outputs": [
        {
          "output_type": "stream",
          "name": "stdout",
          "text": [
            "Error: Division by zero!\n",
            "This block always executes.\n"
          ]
        }
      ]
    },
    {
      "cell_type": "code",
      "source": [
        "# Pattern Matching Example (requires Python 3.10 or later)\n",
        "def http_error(status):\n",
        "    match status:\n",
        "        case 400:\n",
        "            return \"Bad request\"\n",
        "        case 404:\n",
        "            return \"Not found\"\n",
        "        case 418:\n",
        "            return \"I'm a teapot\"\n",
        "        case _:\n",
        "            return \"Something else\"\n",
        "\n",
        "print(http_error(404))\n",
        "print(http_error(200))"
      ],
      "metadata": {
        "id": "uSFse10UIBqj",
        "outputId": "60bcd627-54a9-40a9-c5c9-a6b139788169",
        "colab": {
          "base_uri": "https://localhost:8080/"
        }
      },
      "execution_count": null,
      "outputs": [
        {
          "output_type": "stream",
          "name": "stdout",
          "text": [
            "Not found\n",
            "Something else\n"
          ]
        }
      ]
    },
    {
      "cell_type": "markdown",
      "source": [
        "## Modules and Virtual Environments\n",
        "\n",
        "- **Modules:**  \n",
        "  Python files (with a `.py` extension) that can be imported and used in your code.\n",
        "\n",
        "- **Virtual Environments:**  \n",
        "  Isolated Python environments that allow you to manage dependencies for your projects without affecting your system-wide packages.\n",
        "  \n",
        "You can create a virtual environment using:\n"
      ],
      "metadata": {
        "id": "mM53DAj2IGHL"
      }
    },
    {
      "cell_type": "markdown",
      "source": [
        "\n",
        "```\n",
        "# python -m venv myenv\n",
        "```\n",
        "\n"
      ],
      "metadata": {
        "id": "YOo4AjmkIHSj"
      }
    },
    {
      "cell_type": "markdown",
      "source": [
        "And activate it using:\n",
        "- Windows: `myenv\\Scripts\\activate`\n",
        "- macOS/Linux: `source myenv/bin/activate`\n"
      ],
      "metadata": {
        "id": "S5ENjz-rIKrs"
      }
    }
  ],
  "metadata": {
    "celltoolbar": "Slideshow",
    "kernelspec": {
      "display_name": "Python 3 (ipykernel)",
      "language": "python",
      "name": "python3"
    },
    "language_info": {
      "codemirror_mode": {
        "name": "ipython",
        "version": 3
      },
      "file_extension": ".py",
      "mimetype": "text/x-python",
      "name": "python",
      "nbconvert_exporter": "python",
      "pygments_lexer": "ipython3",
      "version": "3.11.3"
    },
    "latex_envs": {
      "LaTeX_envs_menu_present": true,
      "autoclose": false,
      "autocomplete": true,
      "bibliofile": "biblio.bib",
      "cite_by": "apalike",
      "current_citInitial": 1,
      "eqLabelWithNumbers": true,
      "eqNumInitial": 1,
      "hotkeys": {
        "equation": "Ctrl-E",
        "itemize": "Ctrl-I"
      },
      "labels_anchors": false,
      "latex_user_defs": false,
      "report_style_numbering": false,
      "user_envs_cfg": false
    },
    "colab": {
      "provenance": []
    }
  },
  "nbformat": 4,
  "nbformat_minor": 0
}