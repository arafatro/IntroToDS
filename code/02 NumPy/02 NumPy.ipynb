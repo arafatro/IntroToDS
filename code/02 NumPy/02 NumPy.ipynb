{
  "cells": [
    {
      "cell_type": "markdown",
      "source": [
        "# NumPy Lecture\n",
        "\n",
        "For complete documentation, see the [NumPy Documentation](https://numpy.org/doc/stable/index.html).\n",
        "\n",
        "---\n",
        "\n",
        "## 1. Introduction\n",
        "\n",
        "NumPy is the foundational package for numerical computing in Python. In this lecture, you'll learn how to create arrays, perform operations on them, and leverage various sub-modules for advanced computations such as linear algebra and Fourier transforms.\n",
        "\n",
        "---\n",
        "\n",
        "## 2. Importing NumPy and Other Useful Sub-Modules\n",
        "\n",
        "We import NumPy as `np` and use the new random generator API for reproducibility. We also import sub-modules for linear algebra and Fourier analysis.\n",
        "\n",
        "```python\n",
        "import numpy as np\n",
        "from numpy import linalg as LA   # Linear Algebra\n",
        "from numpy import fft as FFT     # Fast Fourier Transform\n",
        "\n",
        "# New random API using default_rng (recommended for new code)\n",
        "rng = np.random.default_rng()\n"
      ],
      "metadata": {
        "id": "qkM_OAttRhXc"
      }
    },
    {
      "cell_type": "markdown",
      "metadata": {
        "id": "dBcCAI_AOOni"
      },
      "source": [
        "## Creating Arrays\n",
        "### From Lists"
      ]
    },
    {
      "cell_type": "code",
      "execution_count": 2,
      "metadata": {
        "colab": {
          "base_uri": "https://localhost:8080/"
        },
        "id": "F_GqYm9cOOni",
        "outputId": "9a7eb2b3-8bc6-4a51-c1fd-6cee3a971157"
      },
      "outputs": [
        {
          "output_type": "stream",
          "name": "stdout",
          "text": [
            "1D Array: [1 2 3 4 5]\n"
          ]
        }
      ],
      "source": [
        "import numpy as np\n",
        "\n",
        "# 1D Array from a list\n",
        "myList = [1, 2, 3, 4, 5]\n",
        "npList = np.array(myList)\n",
        "print(\"1D Array:\", npList)"
      ]
    },
    {
      "cell_type": "code",
      "execution_count": 3,
      "metadata": {
        "colab": {
          "base_uri": "https://localhost:8080/"
        },
        "id": "TZzVEKJxOOnk",
        "outputId": "b8571f23-a7ab-4eb6-86ea-80cab503c4ae"
      },
      "outputs": [
        {
          "output_type": "stream",
          "name": "stdout",
          "text": [
            "2D Array (Matrix):\n",
            " [[1 2 3]\n",
            " [4 5 6]\n",
            " [7 8 9]]\n"
          ]
        }
      ],
      "source": [
        "# 2D Array (Matrix) from nested lists\n",
        "myMatrix = [[1, 2, 3], [4, 5, 6], [7, 8, 9]]\n",
        "npMatrix = np.array(myMatrix)\n",
        "print(\"2D Array (Matrix):\\n\", npMatrix)"
      ]
    },
    {
      "cell_type": "markdown",
      "metadata": {
        "id": "6zVvqh0LOOnk"
      },
      "source": [
        "## Using Built-in Functions\n"
      ]
    },
    {
      "cell_type": "code",
      "execution_count": 5,
      "metadata": {
        "colab": {
          "base_uri": "https://localhost:8080/"
        },
        "id": "1YuEolw2OOnm",
        "outputId": "a0871236-41a0-4966-eebd-4dc0baad4b4d"
      },
      "outputs": [
        {
          "output_type": "stream",
          "name": "stdout",
          "text": [
            "np.arange(0,10): [0 1 2 3 4 5 6 7 8 9]\n"
          ]
        }
      ],
      "source": [
        "#range(n) -> 0 1 2 3 4 ... n\n",
        "# arange: Create arrays with regularly spaced values\n",
        "print(\"np.arange(0,10):\", np.arange(0, 10))"
      ]
    },
    {
      "cell_type": "code",
      "execution_count": 6,
      "metadata": {
        "colab": {
          "base_uri": "https://localhost:8080/"
        },
        "id": "14Kq4NJFOOnn",
        "outputId": "de32f07e-ba88-4d93-c861-70092777407a"
      },
      "outputs": [
        {
          "output_type": "stream",
          "name": "stdout",
          "text": [
            "np.arange(0,100,10): [ 0 10 20 30 40 50 60 70 80 90]\n"
          ]
        }
      ],
      "source": [
        "#range(start, stop, step)\n",
        "print(\"np.arange(0,100,10):\", np.arange(0, 100, 10))"
      ]
    },
    {
      "cell_type": "code",
      "source": [
        "# linspace: Create arrays with specified number of points\n",
        "print(\"np.linspace(0,10,7):\", np.linspace(0, 10, 7))"
      ],
      "metadata": {
        "colab": {
          "base_uri": "https://localhost:8080/"
        },
        "id": "AQi0mHcaTndL",
        "outputId": "20a94bc4-e858-4605-ff5c-56fafec63877"
      },
      "execution_count": 16,
      "outputs": [
        {
          "output_type": "stream",
          "name": "stdout",
          "text": [
            "np.linspace(0,10,7): [ 0.          1.66666667  3.33333333  5.          6.66666667  8.33333333\n",
            " 10.        ]\n"
          ]
        }
      ]
    },
    {
      "cell_type": "code",
      "source": [
        "print(\"np.linspace(0,10,7,endpoint=False):\", np.linspace(0, 10, 7, endpoint=False))"
      ],
      "metadata": {
        "colab": {
          "base_uri": "https://localhost:8080/"
        },
        "id": "BXuahKpiXDiC",
        "outputId": "6fb65bd1-8b33-458b-aba3-abd4f825b131"
      },
      "execution_count": 17,
      "outputs": [
        {
          "output_type": "stream",
          "name": "stdout",
          "text": [
            "np.linspace(0,10,7,endpoint=False): [0.         1.42857143 2.85714286 4.28571429 5.71428571 7.14285714\n",
            " 8.57142857]\n"
          ]
        }
      ]
    },
    {
      "cell_type": "markdown",
      "source": [
        "## Special Arrays"
      ],
      "metadata": {
        "id": "TEDO3jh4TvAy"
      }
    },
    {
      "cell_type": "markdown",
      "metadata": {
        "id": "MtOn6itaOOnn"
      },
      "source": [
        "### Zeros Matrices"
      ]
    },
    {
      "cell_type": "code",
      "execution_count": 8,
      "metadata": {
        "colab": {
          "base_uri": "https://localhost:8080/"
        },
        "id": "l8zbF31MOOno",
        "outputId": "d2fa6aac-d332-4090-920e-b946a9f59f8b"
      },
      "outputs": [
        {
          "output_type": "stream",
          "name": "stdout",
          "text": [
            "Vector of zeros (length 5): [0. 0. 0. 0. 0.]\n",
            "Matrix of zeros (3x4):\n",
            " [[0. 0. 0. 0.]\n",
            " [0. 0. 0. 0.]\n",
            " [0. 0. 0. 0.]]\n"
          ]
        }
      ],
      "source": [
        "#np.zeros(length vector)\n",
        "print(\"Vector of zeros (length 5):\", np.zeros(5))"
      ]
    },
    {
      "cell_type": "code",
      "execution_count": 9,
      "metadata": {
        "colab": {
          "base_uri": "https://localhost:8080/"
        },
        "id": "pBaTaF3EOOno",
        "outputId": "ced08ecc-7f1e-409f-a8cf-0ea2aceb6c6c"
      },
      "outputs": [
        {
          "output_type": "stream",
          "name": "stdout",
          "text": [
            "Matrix of zeros (3x4):\n",
            " [[0. 0. 0. 0.]\n",
            " [0. 0. 0. 0.]\n",
            " [0. 0. 0. 0.]]\n"
          ]
        }
      ],
      "source": [
        "print(\"Matrix of zeros (3x4):\\n\", np.zeros((3, 4)))"
      ]
    },
    {
      "cell_type": "markdown",
      "metadata": {
        "id": "A9g0dEozOOno"
      },
      "source": [
        "### Ones Matrices"
      ]
    },
    {
      "cell_type": "code",
      "execution_count": 10,
      "metadata": {
        "colab": {
          "base_uri": "https://localhost:8080/"
        },
        "id": "3EBqISjHOOno",
        "outputId": "d46e7ea6-4f34-4868-cc58-be14a3b1e2d7"
      },
      "outputs": [
        {
          "output_type": "stream",
          "name": "stdout",
          "text": [
            "Vector of ones (length 3): [1. 1. 1.]\n"
          ]
        }
      ],
      "source": [
        "print(\"Vector of ones (length 3):\", np.ones(3))"
      ]
    },
    {
      "cell_type": "code",
      "execution_count": 11,
      "metadata": {
        "colab": {
          "base_uri": "https://localhost:8080/"
        },
        "id": "ex2FcdSvOOno",
        "outputId": "f7c37292-bc00-4303-a292-52643fd636c7"
      },
      "outputs": [
        {
          "output_type": "stream",
          "name": "stdout",
          "text": [
            "Matrix of ones (4x5):\n",
            " [[1. 1. 1. 1. 1.]\n",
            " [1. 1. 1. 1. 1.]\n",
            " [1. 1. 1. 1. 1.]\n",
            " [1. 1. 1. 1. 1.]]\n"
          ]
        }
      ],
      "source": [
        "print(\"Matrix of ones (4x5):\\n\", np.ones((4, 5)))"
      ]
    },
    {
      "cell_type": "markdown",
      "metadata": {
        "id": "udQwOBayOOnp"
      },
      "source": [
        "### Identity"
      ]
    },
    {
      "cell_type": "code",
      "execution_count": 13,
      "metadata": {
        "colab": {
          "base_uri": "https://localhost:8080/"
        },
        "id": "MvIkmUboOOnp",
        "outputId": "3f6de126-3797-467d-e010-309ce087bc06"
      },
      "outputs": [
        {
          "output_type": "stream",
          "name": "stdout",
          "text": [
            "Identity matrix (5x5):\n",
            " [[1. 0. 0. 0. 0.]\n",
            " [0. 1. 0. 0. 0.]\n",
            " [0. 0. 1. 0. 0.]\n",
            " [0. 0. 0. 1. 0.]\n",
            " [0. 0. 0. 0. 1.]]\n"
          ]
        }
      ],
      "source": [
        "print(\"Identity matrix (5x5):\\n\", np.identity(5))"
      ]
    },
    {
      "cell_type": "markdown",
      "metadata": {
        "id": "HgBzEXpIOOnp"
      },
      "source": [
        "### Eye"
      ]
    },
    {
      "cell_type": "code",
      "execution_count": 14,
      "metadata": {
        "colab": {
          "base_uri": "https://localhost:8080/"
        },
        "id": "ZCDNeCWsOOnp",
        "outputId": "3de45eaa-1f6e-41fb-b716-e20c05c0aca7"
      },
      "outputs": [
        {
          "output_type": "stream",
          "name": "stdout",
          "text": [
            "Eye matrix (5x5) with offset k=2:\n",
            " [[0. 0. 1. 0. 0.]\n",
            " [0. 0. 0. 1. 0.]\n",
            " [0. 0. 0. 0. 1.]\n",
            " [0. 0. 0. 0. 0.]\n",
            " [0. 0. 0. 0. 0.]]\n"
          ]
        }
      ],
      "source": [
        "print(\"Eye matrix (5x5) with offset k=2:\\n\", np.eye(5, k=2))"
      ]
    },
    {
      "cell_type": "code",
      "execution_count": 15,
      "metadata": {
        "colab": {
          "base_uri": "https://localhost:8080/"
        },
        "id": "NeDGUuEgOOnq",
        "outputId": "a302f332-b171-45c5-a5da-9c472ea3494d"
      },
      "outputs": [
        {
          "output_type": "stream",
          "name": "stdout",
          "text": [
            "Eye matrix (10x10) with offset k=-5:\n",
            " [[0. 0. 0. 0. 0. 0. 0. 0. 0. 0.]\n",
            " [0. 0. 0. 0. 0. 0. 0. 0. 0. 0.]\n",
            " [0. 0. 0. 0. 0. 0. 0. 0. 0. 0.]\n",
            " [0. 0. 0. 0. 0. 0. 0. 0. 0. 0.]\n",
            " [0. 0. 0. 0. 0. 0. 0. 0. 0. 0.]\n",
            " [1. 0. 0. 0. 0. 0. 0. 0. 0. 0.]\n",
            " [0. 1. 0. 0. 0. 0. 0. 0. 0. 0.]\n",
            " [0. 0. 1. 0. 0. 0. 0. 0. 0. 0.]\n",
            " [0. 0. 0. 1. 0. 0. 0. 0. 0. 0.]\n",
            " [0. 0. 0. 0. 1. 0. 0. 0. 0. 0.]]\n"
          ]
        }
      ],
      "source": [
        "print(\"Eye matrix (10x10) with offset k=-5:\\n\", np.eye(10, k=-5))"
      ]
    },
    {
      "cell_type": "markdown",
      "metadata": {
        "id": "V8aiUKBuOOnq"
      },
      "source": [
        "### Random Numbers"
      ]
    },
    {
      "cell_type": "code",
      "execution_count": 18,
      "metadata": {
        "colab": {
          "base_uri": "https://localhost:8080/",
          "height": 505
        },
        "id": "LuTL-25xOOnr",
        "outputId": "aa910cac-4ed7-4839-ee5d-41b12e647afc"
      },
      "outputs": [
        {
          "output_type": "stream",
          "name": "stdout",
          "text": [
            "50\n"
          ]
        },
        {
          "output_type": "execute_result",
          "data": {
            "text/plain": [
              "Text(0.5, 1.0, 'Exponential')"
            ]
          },
          "metadata": {},
          "execution_count": 18
        },
        {
          "output_type": "display_data",
          "data": {
            "text/plain": [
              "<Figure size 600x500 with 1 Axes>"
            ],
            "image/png": "[encoded data removed]"
          },
          "metadata": {}
        }
      ],
      "source": [
        "x = np.linspace(0,10) #count = 50\n",
        "\n",
        "\n",
        "y = np.exp(x)\n",
        "print(len(y))\n",
        "\n",
        "from matplotlib import pyplot as plt\n",
        "\n",
        "\n",
        "plt.figure(figsize=(6,5))\n",
        "plt.plot(x,y)\n",
        "plt.title(\"Exponential\", fontsize=15)"
      ]
    },
    {
      "cell_type": "markdown",
      "source": [
        "### Using the New Random Generator API"
      ],
      "metadata": {
        "id": "NTjdwGDpXUpw"
      }
    },
    {
      "cell_type": "markdown",
      "metadata": {
        "id": "qAwE5Cv6OOnr"
      },
      "source": [
        "### random"
      ]
    },
    {
      "cell_type": "code",
      "execution_count": 20,
      "metadata": {
        "colab": {
          "base_uri": "https://localhost:8080/"
        },
        "id": "MiwAWp0-OOns",
        "outputId": "e0d2e882-0275-47ba-cb1e-2e89e4068f35"
      },
      "outputs": [
        {
          "output_type": "stream",
          "name": "stdout",
          "text": [
            "Uniform random (5 values): [0.91336469 0.25793077 0.47876607 0.296588   0.06578146]\n"
          ]
        }
      ],
      "source": [
        "# Define rng\n",
        "rng = np.random.default_rng()\n",
        "\n",
        "# Uniform distribution between 0 and 1\n",
        "print(\"Uniform random (5 values):\", rng.random(5))"
      ]
    },
    {
      "cell_type": "code",
      "execution_count": 21,
      "metadata": {
        "colab": {
          "base_uri": "https://localhost:8080/"
        },
        "id": "tBEd5tw2OOns",
        "outputId": "01a9aa34-87e0-4c26-abc0-2ddce2767a1e"
      },
      "outputs": [
        {
          "output_type": "stream",
          "name": "stdout",
          "text": [
            "Uniform random (3x4 array):\n",
            " [[0.8974501  0.89688878 0.49675526 0.34566199]\n",
            " [0.88899914 0.35691759 0.45541033 0.35849746]\n",
            " [0.94552783 0.88500484 0.51333144 0.01428107]]\n"
          ]
        }
      ],
      "source": [
        "print(\"Uniform random (3x4 array):\\n\", rng.random((3,4)))"
      ]
    },
    {
      "cell_type": "markdown",
      "metadata": {
        "id": "kMjRSFocOOns"
      },
      "source": [
        "### randn"
      ]
    },
    {
      "cell_type": "code",
      "execution_count": 22,
      "metadata": {
        "colab": {
          "base_uri": "https://localhost:8080/"
        },
        "id": "29NDZaRsOOnt",
        "outputId": "6ab2a656-f69f-4f07-8d4b-7af208739685"
      },
      "outputs": [
        {
          "output_type": "stream",
          "name": "stdout",
          "text": [
            "Normal random (4 values): [ 0.6638037   0.07501648 -0.62426149  2.02418401]\n"
          ]
        }
      ],
      "source": [
        "#Rand random n normal (Gaussian)\n",
        "# Normal distribution: mean 0, variance 1\n",
        "print(\"Normal random (4 values):\", rng.standard_normal(4))"
      ]
    },
    {
      "cell_type": "code",
      "execution_count": 23,
      "metadata": {
        "colab": {
          "base_uri": "https://localhost:8080/"
        },
        "id": "4vXr3it0OOnu",
        "outputId": "ce09aa8d-0c9e-4d03-ab57-e425a89ece91"
      },
      "outputs": [
        {
          "output_type": "stream",
          "name": "stdout",
          "text": [
            "Normal random (4x4 array):\n",
            " [[ 0.25591777  0.10110218 -1.03968039 -0.13460987]\n",
            " [-2.29013677 -2.80668995  1.17206734  0.04010992]\n",
            " [-1.08209876  2.4394101  -0.73530602  1.51701887]\n",
            " [-0.31390893  0.67317555  1.53436094  0.08098744]]\n"
          ]
        }
      ],
      "source": [
        "print(\"Normal random (4x4 array):\\n\", rng.standard_normal((4,4)))"
      ]
    },
    {
      "cell_type": "markdown",
      "metadata": {
        "id": "4cGDwHGMOOnw"
      },
      "source": [
        "### randint"
      ]
    },
    {
      "cell_type": "code",
      "execution_count": 24,
      "metadata": {
        "colab": {
          "base_uri": "https://localhost:8080/"
        },
        "id": "1QsnQPhnOOnx",
        "outputId": "06f5f7d8-cb2b-4fdb-cebb-82cf2df889fa"
      },
      "outputs": [
        {
          "output_type": "stream",
          "name": "stdout",
          "text": [
            "Random integer between 1 and 10: 8\n"
          ]
        }
      ],
      "source": [
        "# randint: Generate random integers between low (inclusive) and high (exclusive)\n",
        "print(\"Random integer between 1 and 10:\", rng.integers(1, 10))"
      ]
    },
    {
      "cell_type": "code",
      "execution_count": 25,
      "metadata": {
        "colab": {
          "base_uri": "https://localhost:8080/"
        },
        "id": "_grTN_1vOOnx",
        "outputId": "1783e3d7-d69d-43bc-ad7f-ba035ff5640b"
      },
      "outputs": [
        {
          "output_type": "stream",
          "name": "stdout",
          "text": [
            "Random integers (10 values between 1 and 100): [24 11 30 67 52 26 48 31 37 27]\n"
          ]
        }
      ],
      "source": [
        "\"\"\"\n",
        "randint(lower, upper, count)\n",
        "-> lower is included\n",
        "-> upper is excluded\n",
        "\"\"\"\n",
        "print(\"Random integers (10 values between 1 and 100):\", rng.integers(1, 100, 10))"
      ]
    },
    {
      "cell_type": "markdown",
      "metadata": {
        "id": "HAkUkiJqOOnx"
      },
      "source": [
        "### Reshaping Arrays"
      ]
    },
    {
      "cell_type": "code",
      "execution_count": 26,
      "metadata": {
        "colab": {
          "base_uri": "https://localhost:8080/"
        },
        "id": "9ZiIKve5OOny",
        "outputId": "71417cc8-7e08-4098-d82b-44ae62c7164f"
      },
      "outputs": [
        {
          "output_type": "stream",
          "name": "stdout",
          "text": [
            "Original array:\n",
            " [-0.68527372  0.21484856 -0.48076791  0.58597474 -0.69497971  1.57483117\n",
            " -1.55808112 -0.30621256  0.20464634 -0.20967413 -0.22867293  0.47604678\n",
            " -0.33299592 -0.9577398  -1.34928033  2.28386906  0.7148561  -1.63485874\n",
            " -2.23027204  1.03127297  1.43544569  0.4418647  -0.89834717  1.35436568\n",
            " -1.71872136]\n"
          ]
        }
      ],
      "source": [
        "myArray = rng.standard_normal(25)\n",
        "print(\"Original array:\\n\", myArray)"
      ]
    },
    {
      "cell_type": "code",
      "execution_count": 27,
      "metadata": {
        "colab": {
          "base_uri": "https://localhost:8080/"
        },
        "id": "I72WEcpnOOny",
        "outputId": "d150351a-be03-4cf9-e83f-d497c4e1650b"
      },
      "outputs": [
        {
          "output_type": "stream",
          "name": "stdout",
          "text": [
            "Reshaped array (5x5):\n",
            " [[-0.68527372  0.21484856 -0.48076791  0.58597474 -0.69497971]\n",
            " [ 1.57483117 -1.55808112 -0.30621256  0.20464634 -0.20967413]\n",
            " [-0.22867293  0.47604678 -0.33299592 -0.9577398  -1.34928033]\n",
            " [ 2.28386906  0.7148561  -1.63485874 -2.23027204  1.03127297]\n",
            " [ 1.43544569  0.4418647  -0.89834717  1.35436568 -1.71872136]]\n"
          ]
        }
      ],
      "source": [
        "reArray = myArray.reshape(5, 5)\n",
        "print(\"Reshaped array (5x5):\\n\", reArray)"
      ]
    },
    {
      "cell_type": "markdown",
      "source": [
        "## Mathematical Operations and Broadcasting"
      ],
      "metadata": {
        "id": "V0Ck3YTAYJap"
      }
    },
    {
      "cell_type": "markdown",
      "source": [],
      "metadata": {
        "id": "EWJh5_U0bN-q"
      }
    },
    {
      "cell_type": "code",
      "source": [
        "myArray = np.arange(0, 10)\n",
        "print(\"Original array:\", myArray)"
      ],
      "metadata": {
        "colab": {
          "base_uri": "https://localhost:8080/"
        },
        "id": "nT90joVpbPed",
        "outputId": "d7c9f9c1-5042-46a8-fd0c-27c61df5da31"
      },
      "execution_count": 28,
      "outputs": [
        {
          "output_type": "stream",
          "name": "stdout",
          "text": [
            "Original array: [0 1 2 3 4 5 6 7 8 9]\n"
          ]
        }
      ]
    },
    {
      "cell_type": "code",
      "source": [
        "print(\"Array + Array:\", myArray + myArray)"
      ],
      "metadata": {
        "id": "CRF1XufRbKdj",
        "colab": {
          "base_uri": "https://localhost:8080/"
        },
        "outputId": "0e2cc04b-f9b4-4823-d617-596c509128b5"
      },
      "execution_count": 29,
      "outputs": [
        {
          "output_type": "stream",
          "name": "stdout",
          "text": [
            "Array + Array: [ 0  2  4  6  8 10 12 14 16 18]\n"
          ]
        }
      ]
    },
    {
      "cell_type": "code",
      "source": [
        "print(\"Array squared:\", myArray ** 2)"
      ],
      "metadata": {
        "colab": {
          "base_uri": "https://localhost:8080/"
        },
        "id": "2G-ZMWD6bWTT",
        "outputId": "332f9f48-f526-4028-fca0-9ac1608905b1"
      },
      "execution_count": 30,
      "outputs": [
        {
          "output_type": "stream",
          "name": "stdout",
          "text": [
            "Array squared: [ 0  1  4  9 16 25 36 49 64 81]\n"
          ]
        }
      ]
    },
    {
      "cell_type": "code",
      "source": [
        "print(\"Integer division by 2:\", myArray // 2)"
      ],
      "metadata": {
        "colab": {
          "base_uri": "https://localhost:8080/"
        },
        "id": "mYeSDgqLbrEL",
        "outputId": "9e149b2e-1b93-4898-e3e3-f2414ce6bd1d"
      },
      "execution_count": 31,
      "outputs": [
        {
          "output_type": "stream",
          "name": "stdout",
          "text": [
            "Integer division by 2: [0 0 1 1 2 2 3 3 4 4]\n"
          ]
        }
      ]
    },
    {
      "cell_type": "code",
      "source": [
        "print(\"Division by 3:\", myArray / 3)"
      ],
      "metadata": {
        "colab": {
          "base_uri": "https://localhost:8080/"
        },
        "id": "LXZqd9kxbtE6",
        "outputId": "73bf80a8-5436-4d55-fd98-18b1616de4e6"
      },
      "execution_count": 32,
      "outputs": [
        {
          "output_type": "stream",
          "name": "stdout",
          "text": [
            "Division by 3: [0.         0.33333333 0.66666667 1.         1.33333333 1.66666667\n",
            " 2.         2.33333333 2.66666667 3.        ]\n"
          ]
        }
      ]
    },
    {
      "cell_type": "markdown",
      "source": [
        "### Handling NaN and Infinity"
      ],
      "metadata": {
        "id": "7de-bmW0bw0a"
      }
    },
    {
      "cell_type": "code",
      "source": [
        "# Division by itself; 0/0 yields NaN\n",
        "nanArray = myArray / myArray\n",
        "print(\"nanArray (0/0 produces NaN):\", nanArray)"
      ],
      "metadata": {
        "colab": {
          "base_uri": "https://localhost:8080/"
        },
        "id": "zpgOEdtQbyI_",
        "outputId": "d178aae1-3c24-4f64-c41e-4a6f74ea60e7"
      },
      "execution_count": 33,
      "outputs": [
        {
          "output_type": "stream",
          "name": "stdout",
          "text": [
            "nanArray (0/0 produces NaN): [nan  1.  1.  1.  1.  1.  1.  1.  1.  1.]\n"
          ]
        },
        {
          "output_type": "stream",
          "name": "stderr",
          "text": [
            "<ipython-input-33-386a3290bbf8>:2: RuntimeWarning: invalid value encountered in divide\n",
            "  nanArray = myArray / myArray\n"
          ]
        }
      ]
    },
    {
      "cell_type": "code",
      "source": [
        "# Division by zero yields infinity (with a warning)\n",
        "infArray = 1 / (myArray + 0.1)  # Added offset to avoid true division by zero\n",
        "print(\"infArray:\", infArray)"
      ],
      "metadata": {
        "colab": {
          "base_uri": "https://localhost:8080/"
        },
        "id": "TiIva_z8b5A8",
        "outputId": "dc2ebcb5-69f3-43ad-c25e-98fc679425fb"
      },
      "execution_count": 35,
      "outputs": [
        {
          "output_type": "stream",
          "name": "stdout",
          "text": [
            "infArray: [10.          0.90909091  0.47619048  0.32258065  0.24390244  0.19607843\n",
            "  0.16393443  0.14084507  0.12345679  0.10989011]\n"
          ]
        }
      ]
    },
    {
      "cell_type": "code",
      "source": [
        "print(\"Is nanArray NaN?\", np.isnan(nanArray))"
      ],
      "metadata": {
        "colab": {
          "base_uri": "https://localhost:8080/"
        },
        "id": "ojaPZo7hb9O7",
        "outputId": "83736afa-50cc-4e89-c128-557366eb253c"
      },
      "execution_count": 36,
      "outputs": [
        {
          "output_type": "stream",
          "name": "stdout",
          "text": [
            "Is nanArray NaN? [ True False False False False False False False False False]\n"
          ]
        }
      ]
    },
    {
      "cell_type": "markdown",
      "source": [
        "###Universal Functions (ufuncs)"
      ],
      "metadata": {
        "id": "XJBtoCycfn7r"
      }
    },
    {
      "cell_type": "code",
      "source": [
        "print(\"Square root:\", np.sqrt(myArray))\n",
        "print(\"Cosine:\", np.cos(myArray))"
      ],
      "metadata": {
        "colab": {
          "base_uri": "https://localhost:8080/"
        },
        "id": "QiskKXbcfrMS",
        "outputId": "0a13e6ee-570f-4366-98db-a4e71b5a33a6"
      },
      "execution_count": 37,
      "outputs": [
        {
          "output_type": "stream",
          "name": "stdout",
          "text": [
            "Square root: [0.         1.         1.41421356 1.73205081 2.         2.23606798\n",
            " 2.44948974 2.64575131 2.82842712 3.        ]\n",
            "Cosine: [ 1.          0.54030231 -0.41614684 -0.9899925  -0.65364362  0.28366219\n",
            "  0.96017029  0.75390225 -0.14550003 -0.91113026]\n"
          ]
        }
      ]
    },
    {
      "cell_type": "code",
      "source": [
        "# Avoid log(0) by adding 1\n",
        "print(\"Logarithm (myArray + 1):\", np.log(myArray + 1))\n",
        "print(\"Negative of array:\", np.negative(myArray))\n",
        "print(\"Exponential base 2:\", np.exp2(myArray))"
      ],
      "metadata": {
        "colab": {
          "base_uri": "https://localhost:8080/"
        },
        "id": "vo420pLxfv5M",
        "outputId": "c9cf576e-1003-46f1-c798-4e90ccb06c76"
      },
      "execution_count": 38,
      "outputs": [
        {
          "output_type": "stream",
          "name": "stdout",
          "text": [
            "Logarithm (myArray + 1): [0.         0.69314718 1.09861229 1.38629436 1.60943791 1.79175947\n",
            " 1.94591015 2.07944154 2.19722458 2.30258509]\n",
            "Negative of array: [ 0 -1 -2 -3 -4 -5 -6 -7 -8 -9]\n",
            "Exponential base 2: [  1.   2.   4.   8.  16.  32.  64. 128. 256. 512.]\n"
          ]
        }
      ]
    },
    {
      "cell_type": "markdown",
      "source": [
        "##Indexing, Slicing, and Advanced Indexing"
      ],
      "metadata": {
        "id": "hOdUzZoef0MS"
      }
    },
    {
      "cell_type": "markdown",
      "source": [
        "###Basic Indexing"
      ],
      "metadata": {
        "id": "ABS8SLsJf7WS"
      }
    },
    {
      "cell_type": "code",
      "source": [
        "# 1D Array indexing\n",
        "myArray = np.array([1, 2, 3, 4, 5])\n",
        "print(\"Element at index 2:\", myArray[2])"
      ],
      "metadata": {
        "colab": {
          "base_uri": "https://localhost:8080/"
        },
        "id": "g3_93CVffysj",
        "outputId": "1ebe8e31-adc8-463a-bcfb-a83a3384b5ab"
      },
      "execution_count": 39,
      "outputs": [
        {
          "output_type": "stream",
          "name": "stdout",
          "text": [
            "Element at index 2: 3\n"
          ]
        }
      ]
    },
    {
      "cell_type": "code",
      "source": [
        "print(\"Last element:\", myArray[-1])"
      ],
      "metadata": {
        "colab": {
          "base_uri": "https://localhost:8080/"
        },
        "id": "ojJ2HC-Nf_y8",
        "outputId": "bc50e68a-fb41-428f-d001-41459bbe4066"
      },
      "execution_count": 40,
      "outputs": [
        {
          "output_type": "stream",
          "name": "stdout",
          "text": [
            "Last element: 5\n"
          ]
        }
      ]
    },
    {
      "cell_type": "code",
      "source": [
        "# 2D Array indexing\n",
        "myMatrix = np.array([[1,2,3],[4,5,6],[7,8,9]])\n",
        "print(\"Element at row 1, column 2:\", myMatrix[1,2])"
      ],
      "metadata": {
        "colab": {
          "base_uri": "https://localhost:8080/"
        },
        "id": "yG1Vz0PegDeh",
        "outputId": "8ae86eb7-9bb3-44f4-d418-5901a0615ea0"
      },
      "execution_count": 41,
      "outputs": [
        {
          "output_type": "stream",
          "name": "stdout",
          "text": [
            "Element at row 1, column 2: 6\n"
          ]
        }
      ]
    },
    {
      "cell_type": "markdown",
      "source": [
        "###Slicing"
      ],
      "metadata": {
        "id": "b2cNkwiCgE8B"
      }
    },
    {
      "cell_type": "code",
      "source": [
        "x = np.arange(0, 6)\n",
        "print(\"Original array x:\", x)"
      ],
      "metadata": {
        "colab": {
          "base_uri": "https://localhost:8080/"
        },
        "id": "hyHcD6mxgHia",
        "outputId": "87925245-0f9a-41c5-c31a-d9b255c9d337"
      },
      "execution_count": 42,
      "outputs": [
        {
          "output_type": "stream",
          "name": "stdout",
          "text": [
            "Original array x: [0 1 2 3 4 5]\n"
          ]
        }
      ]
    },
    {
      "cell_type": "code",
      "source": [
        "y = x[1:4]\n",
        "print(\"Slice of x (indices 1 to 3):\", y)"
      ],
      "metadata": {
        "colab": {
          "base_uri": "https://localhost:8080/"
        },
        "id": "BBOmH8vxgM4H",
        "outputId": "60e48492-1f04-4341-f172-4af912c51b83"
      },
      "execution_count": 43,
      "outputs": [
        {
          "output_type": "stream",
          "name": "stdout",
          "text": [
            "Slice of x (indices 1 to 3): [1 2 3]\n"
          ]
        }
      ]
    },
    {
      "cell_type": "markdown",
      "source": [
        "###Fancy and 3D Indexing"
      ],
      "metadata": {
        "id": "-QkGm2p-gREj"
      }
    },
    {
      "cell_type": "code",
      "source": [
        "# 3D Array indexing\n",
        "m = np.array([\n",
        "    [[10,11,12], [13,14,15], [16,17,18]],\n",
        "    [[20,21,22], [23,24,25], [26,27,28]],\n",
        "    [[30,31,32], [33,34,35], [36,37,38]]\n",
        "])\n",
        "print(\"Element m[2,0,1]:\", m[2,0,1])"
      ],
      "metadata": {
        "colab": {
          "base_uri": "https://localhost:8080/"
        },
        "id": "yIb0HdrsgSUy",
        "outputId": "6e2b4ae1-a2b4-4e38-d4ad-c4914d513193"
      },
      "execution_count": 44,
      "outputs": [
        {
          "output_type": "stream",
          "name": "stdout",
          "text": [
            "Element m[2,0,1]: 31\n"
          ]
        }
      ]
    },
    {
      "cell_type": "code",
      "source": [
        "print(\"2D slice m[1,2]:\", m[1,2])"
      ],
      "metadata": {
        "colab": {
          "base_uri": "https://localhost:8080/"
        },
        "id": "xMj3BVxGgVcS",
        "outputId": "ff0761a5-f53a-4269-ecd3-b44c174bdb57"
      },
      "execution_count": 45,
      "outputs": [
        {
          "output_type": "stream",
          "name": "stdout",
          "text": [
            "2D slice m[1,2]: [26 27 28]\n"
          ]
        }
      ]
    },
    {
      "cell_type": "code",
      "source": [
        "print(\"All rows, second element in first 2D slice:\\n\", m[0,:,1])"
      ],
      "metadata": {
        "colab": {
          "base_uri": "https://localhost:8080/"
        },
        "id": "lfy2cUWVgX1b",
        "outputId": "561fc85d-26b3-4f61-ce57-2b8f38cf79ac"
      },
      "execution_count": 46,
      "outputs": [
        {
          "output_type": "stream",
          "name": "stdout",
          "text": [
            "All rows, second element in first 2D slice:\n",
            " [11 14 17]\n"
          ]
        }
      ]
    },
    {
      "cell_type": "code",
      "source": [
        "print(\"Elements from second row of each 2D slice:\\n\", m[:,1,2])"
      ],
      "metadata": {
        "colab": {
          "base_uri": "https://localhost:8080/"
        },
        "id": "bxGClv3BgaI5",
        "outputId": "1cd42092-c3f1-4b84-c7b8-fed295dd7e6a"
      },
      "execution_count": 47,
      "outputs": [
        {
          "output_type": "stream",
          "name": "stdout",
          "text": [
            "Elements from second row of each 2D slice:\n",
            " [15 25 35]\n"
          ]
        }
      ]
    },
    {
      "cell_type": "markdown",
      "source": [
        "###Broadcasting"
      ],
      "metadata": {
        "id": "7NL384McgcaI"
      }
    },
    {
      "cell_type": "code",
      "source": [
        "x = np.arange(0, 6)\n",
        "print(\"Before broadcasting:\", x)"
      ],
      "metadata": {
        "colab": {
          "base_uri": "https://localhost:8080/"
        },
        "id": "Zhnbu5Dgge0A",
        "outputId": "1f05b74c-0467-4709-dcda-f552ed4e692d"
      },
      "execution_count": 48,
      "outputs": [
        {
          "output_type": "stream",
          "name": "stdout",
          "text": [
            "Before broadcasting: [0 1 2 3 4 5]\n"
          ]
        }
      ]
    },
    {
      "cell_type": "code",
      "source": [
        "x[:] = 10  # Set all elements to 10\n",
        "print(\"After broadcasting:\", x)"
      ],
      "metadata": {
        "colab": {
          "base_uri": "https://localhost:8080/"
        },
        "id": "ELLHNPpjgg3C",
        "outputId": "fba4a4e9-00db-4d4b-fb8b-c0edc9652bbd"
      },
      "execution_count": 49,
      "outputs": [
        {
          "output_type": "stream",
          "name": "stdout",
          "text": [
            "After broadcasting: [10 10 10 10 10 10]\n"
          ]
        }
      ]
    },
    {
      "cell_type": "markdown",
      "source": [
        "##Array Reshaping and Shape"
      ],
      "metadata": {
        "id": "ibFQmXLmgmeF"
      }
    },
    {
      "cell_type": "code",
      "source": [
        "# Reshape and inspect shape\n",
        "myArray = rng.standard_normal(25)\n",
        "print(\"Original array shape:\", myArray.shape)"
      ],
      "metadata": {
        "colab": {
          "base_uri": "https://localhost:8080/"
        },
        "id": "lAHhdg6agnWB",
        "outputId": "2ca859b4-2176-4011-efaa-981684f47a3c"
      },
      "execution_count": 50,
      "outputs": [
        {
          "output_type": "stream",
          "name": "stdout",
          "text": [
            "Original array shape: (25,)\n"
          ]
        }
      ]
    },
    {
      "cell_type": "code",
      "source": [
        "myArray = myArray.reshape(1, 25)\n",
        "print(\"Reshaped to (1,25):\", myArray.shape)"
      ],
      "metadata": {
        "colab": {
          "base_uri": "https://localhost:8080/"
        },
        "id": "61MFjp09gp7h",
        "outputId": "69afb98d-f37c-44e1-ffd1-0eca4a25dc52"
      },
      "execution_count": 51,
      "outputs": [
        {
          "output_type": "stream",
          "name": "stdout",
          "text": [
            "Reshaped to (1,25): (1, 25)\n"
          ]
        }
      ]
    },
    {
      "cell_type": "code",
      "source": [
        "myArray = myArray.reshape(25, 1)\n",
        "print(\"Reshaped to (25,1):\", myArray.shape)"
      ],
      "metadata": {
        "colab": {
          "base_uri": "https://localhost:8080/"
        },
        "id": "4m3SoxsBgr9S",
        "outputId": "56fb5984-95f8-4740-dea4-6274d93da6b6"
      },
      "execution_count": 53,
      "outputs": [
        {
          "output_type": "stream",
          "name": "stdout",
          "text": [
            "Reshaped to (25,1): (25, 1)\n"
          ]
        }
      ]
    },
    {
      "cell_type": "code",
      "source": [
        "myArray = myArray.reshape(5,5)\n",
        "print(\"Reshaped to (5,5):\", myArray.shape)"
      ],
      "metadata": {
        "id": "cQ21kzBggu8i"
      },
      "execution_count": null,
      "outputs": []
    },
    {
      "cell_type": "markdown",
      "source": [
        "##Advanced Topics"
      ],
      "metadata": {
        "id": "s0Wjli6yhcSB"
      }
    },
    {
      "cell_type": "markdown",
      "source": [
        "###Linear Algebra\n",
        "Using NumPy's linear algebra module to compute eigenvalues and eigenvectors."
      ],
      "metadata": {
        "id": "B2wy8lvhhert"
      }
    },
    {
      "cell_type": "code",
      "source": [
        "# Define a matrix\n",
        "A = np.array([[4, 2], [1, 3]])\n",
        "\n",
        "# Import linalg and assign it to LA\n",
        "from numpy import linalg as LA\n",
        "\n",
        "# Calculate eigenvalues and eigenvectors\n",
        "eigenvalues, eigenvectors = LA.eig(A)\n",
        "print(\"Eigenvalues:\", eigenvalues)"
      ],
      "metadata": {
        "colab": {
          "base_uri": "https://localhost:8080/"
        },
        "id": "5lPbss0Fhh-5",
        "outputId": "b7cae7a5-9f4c-4856-8a1c-639695a8cb00"
      },
      "execution_count": 59,
      "outputs": [
        {
          "output_type": "stream",
          "name": "stdout",
          "text": [
            "Eigenvalues: [5. 2.]\n"
          ]
        }
      ]
    },
    {
      "cell_type": "code",
      "source": [
        "print(\"Eigenvectors:\\n\", eigenvectors)"
      ],
      "metadata": {
        "colab": {
          "base_uri": "https://localhost:8080/"
        },
        "id": "KD4Veea3hq6x",
        "outputId": "47bd76f5-8382-42cd-9dce-d9d7cd6eaaac"
      },
      "execution_count": 60,
      "outputs": [
        {
          "output_type": "stream",
          "name": "stdout",
          "text": [
            "Eigenvectors:\n",
            " [[ 0.89442719 -0.70710678]\n",
            " [ 0.4472136   0.70710678]]\n"
          ]
        }
      ]
    },
    {
      "cell_type": "markdown",
      "source": [
        "###Fourier Transform\n",
        "Using the FFT module to compute the Fourier transform of a signal."
      ],
      "metadata": {
        "id": "r0uxFFyMhz12"
      }
    },
    {
      "cell_type": "code",
      "source": [
        "from numpy import fft as FFT # Make sure FFT module is imported\n",
        "\n",
        "# Create a sample signal: a sine wave with noise\n",
        "t = np.linspace(0, 1, 500)\n",
        "signal = np.sin(2 * np.pi * 50 * t) + 0.5 * np.random.default_rng().standard_normal(500) #rng was not initialized. Replaced with np.random.default_rng().standard_normal(500)\n",
        "fft_signal = FFT.fft(signal)\n",
        "print(\"FFT of signal (first 10 components):\", fft_signal[:10])"
      ],
      "metadata": {
        "colab": {
          "base_uri": "https://localhost:8080/"
        },
        "id": "afu-zKzphvzQ",
        "outputId": "2d403b3d-38fe-4137-f0a2-198e37a86d4b"
      },
      "execution_count": 61,
      "outputs": [
        {
          "output_type": "stream",
          "name": "stdout",
          "text": [
            "FFT of signal (first 10 components): [-20.9682901  +0.j           1.71177505 +8.2339408j\n",
            "  -8.19762404 +7.78436974j  -8.77916767+18.8324036j\n",
            "  -2.59248367 -5.08929273j  10.31030678+11.85550302j\n",
            "  -1.91610026 -5.40423686j  -3.32394889 +0.2327044j\n",
            "  -3.00997411 +8.61499674j  14.4884893  -7.69072311j]\n"
          ]
        }
      ]
    },
    {
      "cell_type": "markdown",
      "source": [
        "###Masked Arrays\n",
        "An example of using masked arrays to handle missing or invalid data."
      ],
      "metadata": {
        "id": "v_qP7ZHliBVw"
      }
    },
    {
      "cell_type": "code",
      "source": [
        "# Create an array with missing values\n",
        "data = np.array([1, 2, np.nan, 4, 5])\n",
        "masked_data = np.ma.masked_invalid(data)\n",
        "print(\"Masked array:\", masked_data)"
      ],
      "metadata": {
        "colab": {
          "base_uri": "https://localhost:8080/"
        },
        "id": "g6WXiH57iCqH",
        "outputId": "502a8b5b-6c08-47f3-f5ae-92c5407ee18e"
      },
      "execution_count": 62,
      "outputs": [
        {
          "output_type": "stream",
          "name": "stdout",
          "text": [
            "Masked array: [1.0 2.0 -- 4.0 5.0]\n"
          ]
        }
      ]
    },
    {
      "cell_type": "markdown",
      "source": [
        "Summary\n",
        "In this lecture, we covered:\n",
        "\n",
        "*   List item Basic Array Creation and Manipulation: Using lists, arange, and linspace\n",
        "*   List item Special Arrays: Zeros, ones, identity, and eye matrices\n",
        "*   List item Random Number Generation: Using the new default_rng API for\n",
        "*   List item uniform and normal distributions\n",
        "*   List Mathematical Operations: Including broadcasting and ufuncs\n",
        "*   List Indexing & Slicing: Including basic, fancy, and 3D indexing\n",
        "*   List Array Reshaping: Changing array dimensions and checking shapes\n",
        "*   List Advanced Topics: Linear Algebra `(np.linalg)`, Fourier Transform `(np.fft)`, and Masked Arrays `(np.ma)`\n",
        "\n",
        "For more details, please consult the **NumPy documentation**.\n",
        "\n",
        "`Happy coding!`"
      ],
      "metadata": {
        "id": "VhiUwSVWihXI"
      }
    }
  ],
  "metadata": {
    "kernelspec": {
      "display_name": "Python 3 (ipykernel)",
      "language": "python",
      "name": "python3"
    },
    "language_info": {
      "codemirror_mode": {
        "name": "ipython",
        "version": 3
      },
      "file_extension": ".py",
      "mimetype": "text/x-python",
      "name": "python",
      "nbconvert_exporter": "python",
      "pygments_lexer": "ipython3",
      "version": "3.7.12"
    },
    "latex_envs": {
      "LaTeX_envs_menu_present": true,
      "autoclose": false,
      "autocomplete": true,
      "bibliofile": "biblio.bib",
      "cite_by": "apalike",
      "current_citInitial": 1,
      "eqLabelWithNumbers": true,
      "eqNumInitial": 1,
      "hotkeys": {
        "equation": "Ctrl-E",
        "itemize": "Ctrl-I"
      },
      "labels_anchors": false,
      "latex_user_defs": false,
      "report_style_numbering": false,
      "user_envs_cfg": false
    },
    "colab": {
      "provenance": []
    }
  },
  "nbformat": 4,
  "nbformat_minor": 0
}